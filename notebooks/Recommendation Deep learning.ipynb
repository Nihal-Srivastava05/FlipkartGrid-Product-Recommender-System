{
 "cells": [
  {
   "cell_type": "markdown",
   "id": "3686a686",
   "metadata": {},
   "source": [
    "## Recommendation using Deep learning"
   ]
  },
  {
   "cell_type": "code",
   "execution_count": 1,
   "id": "cdacd0b7",
   "metadata": {},
   "outputs": [],
   "source": [
    "import numpy as np\n",
    "import pandas as pd\n",
    "import matplotlib.pyplot as plt"
   ]
  },
  {
   "cell_type": "markdown",
   "id": "3a2cac76",
   "metadata": {},
   "source": [
    "https://www.kaggle.com/datasets/PromptCloudHQ/flipkart-products"
   ]
  },
  {
   "cell_type": "code",
   "execution_count": 3,
   "id": "44e967d7",
   "metadata": {},
   "outputs": [],
   "source": [
    "df = pd.read_csv('../data/flipkart_com-ecommerce_sample.csv')"
   ]
  },
  {
   "cell_type": "code",
   "execution_count": 4,
   "id": "1d7e3118",
   "metadata": {},
   "outputs": [
    {
     "data": {
      "text/html": [
       "<div>\n",
       "<style scoped>\n",
       "    .dataframe tbody tr th:only-of-type {\n",
       "        vertical-align: middle;\n",
       "    }\n",
       "\n",
       "    .dataframe tbody tr th {\n",
       "        vertical-align: top;\n",
       "    }\n",
       "\n",
       "    .dataframe thead th {\n",
       "        text-align: right;\n",
       "    }\n",
       "</style>\n",
       "<table border=\"1\" class=\"dataframe\">\n",
       "  <thead>\n",
       "    <tr style=\"text-align: right;\">\n",
       "      <th></th>\n",
       "      <th>uniq_id</th>\n",
       "      <th>crawl_timestamp</th>\n",
       "      <th>product_url</th>\n",
       "      <th>product_name</th>\n",
       "      <th>product_category_tree</th>\n",
       "      <th>pid</th>\n",
       "      <th>retail_price</th>\n",
       "      <th>discounted_price</th>\n",
       "      <th>image</th>\n",
       "      <th>is_FK_Advantage_product</th>\n",
       "      <th>description</th>\n",
       "      <th>product_rating</th>\n",
       "      <th>overall_rating</th>\n",
       "      <th>brand</th>\n",
       "      <th>product_specifications</th>\n",
       "    </tr>\n",
       "  </thead>\n",
       "  <tbody>\n",
       "    <tr>\n",
       "      <th>0</th>\n",
       "      <td>c2d766ca982eca8304150849735ffef9</td>\n",
       "      <td>2016-03-25 22:59:23 +0000</td>\n",
       "      <td>http://www.flipkart.com/alisha-solid-women-s-c...</td>\n",
       "      <td>Alisha Solid Women's Cycling Shorts</td>\n",
       "      <td>[\"Clothing &gt;&gt; Women's Clothing &gt;&gt; Lingerie, Sl...</td>\n",
       "      <td>SRTEH2FF9KEDEFGF</td>\n",
       "      <td>999.0</td>\n",
       "      <td>379.0</td>\n",
       "      <td>[\"http://img5a.flixcart.com/image/short/u/4/a/...</td>\n",
       "      <td>False</td>\n",
       "      <td>Key Features of Alisha Solid Women's Cycling S...</td>\n",
       "      <td>No rating available</td>\n",
       "      <td>No rating available</td>\n",
       "      <td>Alisha</td>\n",
       "      <td>{\"product_specification\"=&gt;[{\"key\"=&gt;\"Number of ...</td>\n",
       "    </tr>\n",
       "    <tr>\n",
       "      <th>1</th>\n",
       "      <td>7f7036a6d550aaa89d34c77bd39a5e48</td>\n",
       "      <td>2016-03-25 22:59:23 +0000</td>\n",
       "      <td>http://www.flipkart.com/fabhomedecor-fabric-do...</td>\n",
       "      <td>FabHomeDecor Fabric Double Sofa Bed</td>\n",
       "      <td>[\"Furniture &gt;&gt; Living Room Furniture &gt;&gt; Sofa B...</td>\n",
       "      <td>SBEEH3QGU7MFYJFY</td>\n",
       "      <td>32157.0</td>\n",
       "      <td>22646.0</td>\n",
       "      <td>[\"http://img6a.flixcart.com/image/sofa-bed/j/f...</td>\n",
       "      <td>False</td>\n",
       "      <td>FabHomeDecor Fabric Double Sofa Bed (Finish Co...</td>\n",
       "      <td>No rating available</td>\n",
       "      <td>No rating available</td>\n",
       "      <td>FabHomeDecor</td>\n",
       "      <td>{\"product_specification\"=&gt;[{\"key\"=&gt;\"Installati...</td>\n",
       "    </tr>\n",
       "    <tr>\n",
       "      <th>2</th>\n",
       "      <td>f449ec65dcbc041b6ae5e6a32717d01b</td>\n",
       "      <td>2016-03-25 22:59:23 +0000</td>\n",
       "      <td>http://www.flipkart.com/aw-bellies/p/itmeh4grg...</td>\n",
       "      <td>AW Bellies</td>\n",
       "      <td>[\"Footwear &gt;&gt; Women's Footwear &gt;&gt; Ballerinas &gt;...</td>\n",
       "      <td>SHOEH4GRSUBJGZXE</td>\n",
       "      <td>999.0</td>\n",
       "      <td>499.0</td>\n",
       "      <td>[\"http://img5a.flixcart.com/image/shoe/7/z/z/r...</td>\n",
       "      <td>False</td>\n",
       "      <td>Key Features of AW Bellies Sandals Wedges Heel...</td>\n",
       "      <td>No rating available</td>\n",
       "      <td>No rating available</td>\n",
       "      <td>AW</td>\n",
       "      <td>{\"product_specification\"=&gt;[{\"key\"=&gt;\"Ideal For\"...</td>\n",
       "    </tr>\n",
       "  </tbody>\n",
       "</table>\n",
       "</div>"
      ],
      "text/plain": [
       "                            uniq_id            crawl_timestamp  \\\n",
       "0  c2d766ca982eca8304150849735ffef9  2016-03-25 22:59:23 +0000   \n",
       "1  7f7036a6d550aaa89d34c77bd39a5e48  2016-03-25 22:59:23 +0000   \n",
       "2  f449ec65dcbc041b6ae5e6a32717d01b  2016-03-25 22:59:23 +0000   \n",
       "\n",
       "                                         product_url  \\\n",
       "0  http://www.flipkart.com/alisha-solid-women-s-c...   \n",
       "1  http://www.flipkart.com/fabhomedecor-fabric-do...   \n",
       "2  http://www.flipkart.com/aw-bellies/p/itmeh4grg...   \n",
       "\n",
       "                          product_name  \\\n",
       "0  Alisha Solid Women's Cycling Shorts   \n",
       "1  FabHomeDecor Fabric Double Sofa Bed   \n",
       "2                           AW Bellies   \n",
       "\n",
       "                               product_category_tree               pid  \\\n",
       "0  [\"Clothing >> Women's Clothing >> Lingerie, Sl...  SRTEH2FF9KEDEFGF   \n",
       "1  [\"Furniture >> Living Room Furniture >> Sofa B...  SBEEH3QGU7MFYJFY   \n",
       "2  [\"Footwear >> Women's Footwear >> Ballerinas >...  SHOEH4GRSUBJGZXE   \n",
       "\n",
       "   retail_price  discounted_price  \\\n",
       "0         999.0             379.0   \n",
       "1       32157.0           22646.0   \n",
       "2         999.0             499.0   \n",
       "\n",
       "                                               image  is_FK_Advantage_product  \\\n",
       "0  [\"http://img5a.flixcart.com/image/short/u/4/a/...                    False   \n",
       "1  [\"http://img6a.flixcart.com/image/sofa-bed/j/f...                    False   \n",
       "2  [\"http://img5a.flixcart.com/image/shoe/7/z/z/r...                    False   \n",
       "\n",
       "                                         description       product_rating  \\\n",
       "0  Key Features of Alisha Solid Women's Cycling S...  No rating available   \n",
       "1  FabHomeDecor Fabric Double Sofa Bed (Finish Co...  No rating available   \n",
       "2  Key Features of AW Bellies Sandals Wedges Heel...  No rating available   \n",
       "\n",
       "        overall_rating         brand  \\\n",
       "0  No rating available        Alisha   \n",
       "1  No rating available  FabHomeDecor   \n",
       "2  No rating available            AW   \n",
       "\n",
       "                              product_specifications  \n",
       "0  {\"product_specification\"=>[{\"key\"=>\"Number of ...  \n",
       "1  {\"product_specification\"=>[{\"key\"=>\"Installati...  \n",
       "2  {\"product_specification\"=>[{\"key\"=>\"Ideal For\"...  "
      ]
     },
     "execution_count": 4,
     "metadata": {},
     "output_type": "execute_result"
    }
   ],
   "source": [
    "df.head(3)"
   ]
  },
  {
   "cell_type": "code",
   "execution_count": 5,
   "id": "b4befa85",
   "metadata": {},
   "outputs": [
    {
     "data": {
      "text/plain": [
       "uniq_id                       0\n",
       "crawl_timestamp               0\n",
       "product_url                   0\n",
       "product_name                  0\n",
       "product_category_tree         0\n",
       "pid                           0\n",
       "retail_price                 78\n",
       "discounted_price             78\n",
       "image                         3\n",
       "is_FK_Advantage_product       0\n",
       "description                   2\n",
       "product_rating                0\n",
       "overall_rating                0\n",
       "brand                      5864\n",
       "product_specifications       14\n",
       "dtype: int64"
      ]
     },
     "execution_count": 5,
     "metadata": {},
     "output_type": "execute_result"
    }
   ],
   "source": [
    "df.isnull().sum()"
   ]
  },
  {
   "cell_type": "code",
   "execution_count": 10,
   "id": "47ceaf6d",
   "metadata": {},
   "outputs": [],
   "source": [
    "df = df.drop(['crawl_timestamp', 'is_FK_Advantage_product', 'brand', 'product_specifications'], axis=1)"
   ]
  },
  {
   "cell_type": "code",
   "execution_count": 13,
   "id": "7769add2",
   "metadata": {},
   "outputs": [],
   "source": [
    "df.dropna(inplace=True)"
   ]
  },
  {
   "cell_type": "code",
   "execution_count": 14,
   "id": "d5e5284f",
   "metadata": {},
   "outputs": [
    {
     "name": "stdout",
     "output_type": "stream",
     "text": [
      "<class 'pandas.core.frame.DataFrame'>\n",
      "Int64Index: 19917 entries, 0 to 19999\n",
      "Data columns (total 11 columns):\n",
      " #   Column                 Non-Null Count  Dtype  \n",
      "---  ------                 --------------  -----  \n",
      " 0   uniq_id                19917 non-null  object \n",
      " 1   product_url            19917 non-null  object \n",
      " 2   product_name           19917 non-null  object \n",
      " 3   product_category_tree  19917 non-null  object \n",
      " 4   pid                    19917 non-null  object \n",
      " 5   retail_price           19917 non-null  float64\n",
      " 6   discounted_price       19917 non-null  float64\n",
      " 7   image                  19917 non-null  object \n",
      " 8   description            19917 non-null  object \n",
      " 9   product_rating         19917 non-null  object \n",
      " 10  overall_rating         19917 non-null  object \n",
      "dtypes: float64(2), object(9)\n",
      "memory usage: 1.8+ MB\n"
     ]
    }
   ],
   "source": [
    "df.info()"
   ]
  },
  {
   "cell_type": "code",
   "execution_count": 29,
   "id": "81f4e4c2",
   "metadata": {},
   "outputs": [
    {
     "data": {
      "text/plain": [
       "(1839, 11)"
      ]
     },
     "execution_count": 29,
     "metadata": {},
     "output_type": "execute_result"
    }
   ],
   "source": [
    "df[df['product_rating'] != \"No rating available\"].shape"
   ]
  },
  {
   "cell_type": "code",
   "execution_count": 15,
   "id": "eff593e9",
   "metadata": {},
   "outputs": [],
   "source": [
    "def preprocess_price(price):\n",
    "    price = str(price).replace(\"₹\", \"\")\n",
    "    price = price.replace(\",\", \"\")\n",
    "    \n",
    "    return float(price)\n",
    "\n",
    "def preprocess_percentage(percentage):\n",
    "    percentage = percentage.replace(\"%\", \"\")\n",
    "    return float(percentage)"
   ]
  },
  {
   "cell_type": "code",
   "execution_count": 16,
   "id": "515021d6",
   "metadata": {},
   "outputs": [],
   "source": [
    "# df['discounted_price'] = df['discounted_price'].apply(lambda x: preprocess_price(x))\n",
    "# df['actual_price'] = df['actual_price'].apply(lambda x: preprocess_price(x))"
   ]
  },
  {
   "cell_type": "code",
   "execution_count": 17,
   "id": "0475ee95",
   "metadata": {},
   "outputs": [],
   "source": [
    "# df['discount_percentage'] = df['discount_percentage'].apply(lambda x: preprocess_percentage(x))"
   ]
  },
  {
   "cell_type": "code",
   "execution_count": 18,
   "id": "18273fcf",
   "metadata": {},
   "outputs": [],
   "source": [
    "# df[df['rating'] == \"|\"]"
   ]
  },
  {
   "cell_type": "code",
   "execution_count": 19,
   "id": "82eb6124",
   "metadata": {},
   "outputs": [],
   "source": [
    "# df.drop(1279, inplace=True)"
   ]
  },
  {
   "cell_type": "code",
   "execution_count": 20,
   "id": "f5993b11",
   "metadata": {},
   "outputs": [],
   "source": [
    "# df['rating'] = df['rating'].apply(lambda x: float(x))"
   ]
  },
  {
   "cell_type": "code",
   "execution_count": 26,
   "id": "18871643",
   "metadata": {},
   "outputs": [],
   "source": [
    "# df['rating_count'] = df['rating_count'].apply(lambda x: preprocess_price(x))"
   ]
  },
  {
   "cell_type": "markdown",
   "id": "3e24966a",
   "metadata": {},
   "source": [
    "OPTIONAL (NOT DONE YET)"
   ]
  },
  {
   "cell_type": "code",
   "execution_count": 50,
   "id": "9eff414e",
   "metadata": {},
   "outputs": [],
   "source": [
    "import nltk"
   ]
  },
  {
   "cell_type": "code",
   "execution_count": 53,
   "id": "3e39ec38",
   "metadata": {},
   "outputs": [],
   "source": [
    "from nltk.corpus import stopwords\n",
    "stop_words = set(stopwords.words('english'))"
   ]
  },
  {
   "cell_type": "code",
   "execution_count": 59,
   "id": "14f35485",
   "metadata": {},
   "outputs": [],
   "source": [
    "wordsList = nltk.word_tokenize(df['product_name'][1])\n",
    "wordsList = [w for w in wordsList if not w in stop_words]\n",
    "tagged = nltk.pos_tag(wordsList)\n",
    "words = []\n",
    "for word, tag in tagged:\n",
    "    if tag == \"NNP\" or tag == \"JJ\":\n",
    "        words.append(word)"
   ]
  },
  {
   "cell_type": "code",
   "execution_count": 61,
   "id": "7abb565d",
   "metadata": {
    "scrolled": true
   },
   "outputs": [
    {
     "data": {
      "text/plain": [
       "[('Ambrane', 'NNP'),\n",
       " ('Unbreakable', 'JJ'),\n",
       " ('60W', 'CD'),\n",
       " ('/', 'JJ'),\n",
       " ('3A', 'CD'),\n",
       " ('Fast', 'NNP'),\n",
       " ('Charging', 'NNP'),\n",
       " ('1.5m', 'CD'),\n",
       " ('Braided', 'NNP'),\n",
       " ('Type', 'NNP'),\n",
       " ('C', 'NNP'),\n",
       " ('Cable', 'NNP'),\n",
       " ('Smartphones', 'NNP'),\n",
       " (',', ','),\n",
       " ('Tablets', 'NNP'),\n",
       " (',', ','),\n",
       " ('Laptops', 'NNP'),\n",
       " ('&', 'CC'),\n",
       " ('Type', 'NNP'),\n",
       " ('C', 'NNP'),\n",
       " ('devices', 'NNS'),\n",
       " (',', ','),\n",
       " ('PD', 'NNP'),\n",
       " ('Technology', 'NNP'),\n",
       " (',', ','),\n",
       " ('480Mbps', 'CD'),\n",
       " ('Data', 'NNP'),\n",
       " ('Sync', 'NNP'),\n",
       " (',', ','),\n",
       " ('Quick', 'NNP'),\n",
       " ('Charge', 'NNP'),\n",
       " ('3.0', 'CD'),\n",
       " ('(', '('),\n",
       " ('RCT15A', 'NNP'),\n",
       " (',', ','),\n",
       " ('Black', 'NNP'),\n",
       " (')', ')')]"
      ]
     },
     "execution_count": 61,
     "metadata": {},
     "output_type": "execute_result"
    }
   ],
   "source": [
    "tagged"
   ]
  },
  {
   "cell_type": "markdown",
   "id": "ecd2ccb1",
   "metadata": {},
   "source": [
    "OPTIONAL END"
   ]
  },
  {
   "cell_type": "code",
   "execution_count": 6,
   "id": "8b026515",
   "metadata": {},
   "outputs": [],
   "source": [
    "from sentence_transformers import SentenceTransformer"
   ]
  },
  {
   "cell_type": "code",
   "execution_count": 7,
   "id": "0930e323",
   "metadata": {},
   "outputs": [],
   "source": [
    "from sklearn.metrics.pairwise import cosine_similarity"
   ]
  },
  {
   "cell_type": "code",
   "execution_count": 8,
   "id": "805a37c8",
   "metadata": {},
   "outputs": [],
   "source": [
    "model = SentenceTransformer(\"distilbert-base-nli-mean-tokens\")"
   ]
  },
  {
   "cell_type": "code",
   "execution_count": 33,
   "id": "3b217ca4",
   "metadata": {},
   "outputs": [],
   "source": [
    "df = df.reset_index(drop=True)"
   ]
  },
  {
   "cell_type": "code",
   "execution_count": 50,
   "id": "f0641d48",
   "metadata": {},
   "outputs": [],
   "source": [
    "def clean_category_tree(s):\n",
    "    n_s = \"\"\n",
    "    for word in s[1:-1].split(\">>\"):\n",
    "        n_s += word.strip() + \" , \"\n",
    "    \n",
    "    return n_s"
   ]
  },
  {
   "cell_type": "code",
   "execution_count": 52,
   "id": "c13ce97e",
   "metadata": {},
   "outputs": [],
   "source": [
    "df['product_category_tree'] = df['product_category_tree'].apply(lambda x: clean_category_tree(x))"
   ]
  },
  {
   "cell_type": "code",
   "execution_count": 17,
   "id": "5802b527",
   "metadata": {},
   "outputs": [],
   "source": [
    "# product_name_embedding = model.encode(df['product_name'])\n",
    "# category_embedding = model.encode(df['category'])\n",
    "# about_product_embedding = model.encode(df['about_product'])\n",
    "# product_name_embedding.shape, category_embedding.shape, about_product_embedding.shape"
   ]
  },
  {
   "cell_type": "code",
   "execution_count": 53,
   "id": "3bcf4b90",
   "metadata": {},
   "outputs": [],
   "source": [
    "product_name_embedding = model.encode(df['product_name'])\n",
    "category_embedding = model.encode(df['product_category_tree'])\n",
    "about_product_embedding = model.encode(df['description'])"
   ]
  },
  {
   "cell_type": "code",
   "execution_count": 73,
   "id": "f9303d67",
   "metadata": {},
   "outputs": [
    {
     "data": {
      "text/plain": [
       "numpy.ndarray"
      ]
     },
     "execution_count": 73,
     "metadata": {},
     "output_type": "execute_result"
    }
   ],
   "source": [
    "type(category_embedding)"
   ]
  },
  {
   "cell_type": "code",
   "execution_count": 74,
   "id": "6fd2219e",
   "metadata": {},
   "outputs": [],
   "source": [
    "with open('product_name_embedding.npy', 'wb') as f:\n",
    "    np.save(f, product_name_embedding)"
   ]
  },
  {
   "cell_type": "code",
   "execution_count": 75,
   "id": "8a932b6a",
   "metadata": {},
   "outputs": [],
   "source": [
    "with open('category_embedding.npy', 'wb') as f:\n",
    "    np.save(f, category_embedding)"
   ]
  },
  {
   "cell_type": "code",
   "execution_count": 76,
   "id": "9b41f4d1",
   "metadata": {},
   "outputs": [],
   "source": [
    "with open('about_product_embedding.npy', 'wb') as f:\n",
    "    np.save(f, about_product_embedding)"
   ]
  },
  {
   "cell_type": "code",
   "execution_count": 54,
   "id": "9644b825",
   "metadata": {
    "scrolled": true
   },
   "outputs": [
    {
     "data": {
      "text/plain": [
       "((19917, 768), (19917, 768), (19917, 768))"
      ]
     },
     "execution_count": 54,
     "metadata": {},
     "output_type": "execute_result"
    }
   ],
   "source": [
    "product_name_embedding.shape, category_embedding.shape, about_product_embedding.shape"
   ]
  },
  {
   "cell_type": "code",
   "execution_count": 2,
   "id": "52dabf48",
   "metadata": {},
   "outputs": [],
   "source": [
    "import tensorflow as tf"
   ]
  },
  {
   "cell_type": "code",
   "execution_count": 3,
   "id": "f8f0cf19",
   "metadata": {},
   "outputs": [],
   "source": [
    "from keras.layers import Input, Conv1D, Flatten, Dense, Reshape, Conv1DTranspose, Concatenate, concatenate\n",
    "from keras import Model"
   ]
  },
  {
   "cell_type": "code",
   "execution_count": 57,
   "id": "3c8ca900",
   "metadata": {},
   "outputs": [
    {
     "data": {
      "text/plain": [
       "2304"
      ]
     },
     "execution_count": 57,
     "metadata": {},
     "output_type": "execute_result"
    }
   ],
   "source": [
    "768*3"
   ]
  },
  {
   "cell_type": "code",
   "execution_count": 58,
   "id": "e580ab03",
   "metadata": {},
   "outputs": [],
   "source": [
    "product_name_embedding =  np.expand_dims(product_name_embedding, axis=1)\n",
    "category_embedding = np.expand_dims(category_embedding, axis=1)\n",
    "about_product_embedding = np.expand_dims(about_product_embedding, axis=1)"
   ]
  },
  {
   "cell_type": "code",
   "execution_count": 4,
   "id": "9a7a639b",
   "metadata": {},
   "outputs": [],
   "source": [
    "product_name_embedding = np.load('./product_name_embedding.npy')\n",
    "category_embedding = np.load('./category_embedding.npy')\n",
    "about_product_embedding = np.load('./about_product_embedding.npy')"
   ]
  },
  {
   "cell_type": "code",
   "execution_count": 5,
   "id": "f4c4ddc6",
   "metadata": {},
   "outputs": [
    {
     "data": {
      "text/plain": [
       "((19917, 1, 768), (19917, 1, 768), (19917, 1, 768))"
      ]
     },
     "execution_count": 5,
     "metadata": {},
     "output_type": "execute_result"
    }
   ],
   "source": [
    "product_name_embedding.shape, category_embedding.shape, about_product_embedding.shape"
   ]
  },
  {
   "cell_type": "code",
   "execution_count": 9,
   "id": "f7782bbf",
   "metadata": {},
   "outputs": [],
   "source": [
    "product_name = Input(shape=(1, 768))\n",
    "category = Input(shape=(1, 768))\n",
    "description = Input(shape=(1, 768))\n",
    "\n",
    "encoder = concatenate([product_name, category, description])\n",
    "encoder = Conv1D(filters=64, kernel_size=3, strides=1, padding=\"causal\", activation='relu')(encoder)\n",
    "encoder = Conv1D(filters=512, kernel_size=3, strides=1, padding=\"causal\", activation='relu')(encoder)\n",
    "encoder = Flatten()(encoder)\n",
    "encoder = Dense(512)(encoder)"
   ]
  },
  {
   "cell_type": "code",
   "execution_count": 10,
   "id": "e2ad6d47",
   "metadata": {},
   "outputs": [],
   "source": [
    "# decoder = Dense(64, activation='relu')(encoder)\n",
    "decoder = Reshape(target_shape=(1, 512))(encoder)\n",
    "decoder = Conv1DTranspose(filters=512, kernel_size=3, strides=1, padding=\"same\", activation='relu')(decoder)\n",
    "decoder = Conv1DTranspose(filters=64, kernel_size=3, strides=1, padding=\"same\", activation='relu')(decoder)\n",
    "decoder = Conv1DTranspose(filters=2304, kernel_size=3, strides=1, padding=\"same\", activation='relu')(decoder)\n",
    "\n",
    "output1 = Conv1DTranspose(filters=768, kernel_size=3, strides=1, padding=\"same\")(decoder)\n",
    "output2 = Conv1DTranspose(filters=768, kernel_size=3, strides=1, padding=\"same\")(decoder)\n",
    "output3 = Conv1DTranspose(filters=768, kernel_size=3, strides=1, padding=\"same\")(decoder)"
   ]
  },
  {
   "cell_type": "code",
   "execution_count": 11,
   "id": "026446e4",
   "metadata": {},
   "outputs": [],
   "source": [
    "autoencoder_model = Model(inputs=[product_name, category, description], outputs=[output1, output2, output3], name=\"autoencoder_model\")\n",
    "autoencoder_model.compile(optimizer='adam', loss='mean_squared_error', metrics=['mse'])"
   ]
  },
  {
   "cell_type": "code",
   "execution_count": 12,
   "id": "167b71e8",
   "metadata": {},
   "outputs": [
    {
     "name": "stdout",
     "output_type": "stream",
     "text": [
      "Model: \"autoencoder_model\"\n",
      "__________________________________________________________________________________________________\n",
      " Layer (type)                   Output Shape         Param #     Connected to                     \n",
      "==================================================================================================\n",
      " input_1 (InputLayer)           [(None, 1, 768)]     0           []                               \n",
      "                                                                                                  \n",
      " input_2 (InputLayer)           [(None, 1, 768)]     0           []                               \n",
      "                                                                                                  \n",
      " input_3 (InputLayer)           [(None, 1, 768)]     0           []                               \n",
      "                                                                                                  \n",
      " concatenate (Concatenate)      (None, 1, 2304)      0           ['input_1[0][0]',                \n",
      "                                                                  'input_2[0][0]',                \n",
      "                                                                  'input_3[0][0]']                \n",
      "                                                                                                  \n",
      " conv1d (Conv1D)                (None, 1, 64)        442432      ['concatenate[0][0]']            \n",
      "                                                                                                  \n",
      " conv1d_1 (Conv1D)              (None, 1, 512)       98816       ['conv1d[0][0]']                 \n",
      "                                                                                                  \n",
      " flatten (Flatten)              (None, 512)          0           ['conv1d_1[0][0]']               \n",
      "                                                                                                  \n",
      " dense (Dense)                  (None, 512)          262656      ['flatten[0][0]']                \n",
      "                                                                                                  \n",
      " reshape (Reshape)              (None, 1, 512)       0           ['dense[0][0]']                  \n",
      "                                                                                                  \n",
      " conv1d_transpose (Conv1DTransp  (None, 1, 512)      786944      ['reshape[0][0]']                \n",
      " ose)                                                                                             \n",
      "                                                                                                  \n",
      " conv1d_transpose_1 (Conv1DTran  (None, 1, 64)       98368       ['conv1d_transpose[0][0]']       \n",
      " spose)                                                                                           \n",
      "                                                                                                  \n",
      " conv1d_transpose_2 (Conv1DTran  (None, 1, 2304)     444672      ['conv1d_transpose_1[0][0]']     \n",
      " spose)                                                                                           \n",
      "                                                                                                  \n",
      " conv1d_transpose_3 (Conv1DTran  (None, 1, 768)      5309184     ['conv1d_transpose_2[0][0]']     \n",
      " spose)                                                                                           \n",
      "                                                                                                  \n",
      " conv1d_transpose_4 (Conv1DTran  (None, 1, 768)      5309184     ['conv1d_transpose_2[0][0]']     \n",
      " spose)                                                                                           \n",
      "                                                                                                  \n",
      " conv1d_transpose_5 (Conv1DTran  (None, 1, 768)      5309184     ['conv1d_transpose_2[0][0]']     \n",
      " spose)                                                                                           \n",
      "                                                                                                  \n",
      "==================================================================================================\n",
      "Total params: 18,061,440\n",
      "Trainable params: 18,061,440\n",
      "Non-trainable params: 0\n",
      "__________________________________________________________________________________________________\n"
     ]
    }
   ],
   "source": [
    "autoencoder_model.summary()"
   ]
  },
  {
   "cell_type": "code",
   "execution_count": 13,
   "id": "36d58251",
   "metadata": {},
   "outputs": [
    {
     "data": {
      "image/png": "[encoded data removed]",
      "text/plain": [
       "<IPython.core.display.Image object>"
      ]
     },
     "execution_count": 13,
     "metadata": {},
     "output_type": "execute_result"
    }
   ],
   "source": [
    "tf.keras.utils.plot_model(autoencoder_model, show_shapes=True)"
   ]
  },
  {
   "cell_type": "code",
   "execution_count": 15,
   "id": "862a94bf",
   "metadata": {},
   "outputs": [],
   "source": [
    "# tf.config.experimental_run_functions_eagerly(True)\n",
    "tf.config.run_functions_eagerly(True)"
   ]
  },
  {
   "cell_type": "code",
   "execution_count": 16,
   "id": "1a60ff43",
   "metadata": {
    "scrolled": true
   },
   "outputs": [
    {
     "name": "stdout",
     "output_type": "stream",
     "text": [
      "Epoch 1/50\n"
     ]
    },
    {
     "name": "stderr",
     "output_type": "stream",
     "text": [
      "C:\\Users\\nihal\\Anaconda3\\envs\\gpuenv\\lib\\site-packages\\tensorflow\\python\\data\\ops\\structured_function.py:264: UserWarning: Even though the `tf.config.experimental_run_functions_eagerly` option is set, this option does not apply to tf.data functions. To force eager execution of tf.data functions, please use `tf.data.experimental.enable_debug_mode()`.\n",
      "  warnings.warn(\n"
     ]
    },
    {
     "name": "stdout",
     "output_type": "stream",
     "text": [
      "498/498 [==============================] - 36s 61ms/step - loss: 0.3569 - conv1d_transpose_3_loss: 0.1611 - conv1d_transpose_4_loss: 0.1140 - conv1d_transpose_5_loss: 0.0817 - conv1d_transpose_3_mse: 0.1611 - conv1d_transpose_4_mse: 0.1140 - conv1d_transpose_5_mse: 0.0817 - val_loss: 0.2955 - val_conv1d_transpose_3_loss: 0.1326 - val_conv1d_transpose_4_loss: 0.0929 - val_conv1d_transpose_5_loss: 0.0700 - val_conv1d_transpose_3_mse: 0.1326 - val_conv1d_transpose_4_mse: 0.0929 - val_conv1d_transpose_5_mse: 0.0700\n",
      "Epoch 2/50\n",
      "498/498 [==============================] - 31s 63ms/step - loss: 0.1854 - conv1d_transpose_3_loss: 0.0952 - conv1d_transpose_4_loss: 0.0448 - conv1d_transpose_5_loss: 0.0455 - conv1d_transpose_3_mse: 0.0952 - conv1d_transpose_4_mse: 0.0448 - conv1d_transpose_5_mse: 0.0455 - val_loss: 0.2368 - val_conv1d_transpose_3_loss: 0.1066 - val_conv1d_transpose_4_loss: 0.0686 - val_conv1d_transpose_5_loss: 0.0616 - val_conv1d_transpose_3_mse: 0.1066 - val_conv1d_transpose_4_mse: 0.0686 - val_conv1d_transpose_5_mse: 0.0616\n",
      "Epoch 3/50\n",
      "498/498 [==============================] - 32s 63ms/step - loss: 0.1476 - conv1d_transpose_3_loss: 0.0757 - conv1d_transpose_4_loss: 0.0327 - conv1d_transpose_5_loss: 0.0392 - conv1d_transpose_3_mse: 0.0757 - conv1d_transpose_4_mse: 0.0327 - conv1d_transpose_5_mse: 0.0392 - val_loss: 0.2095 - val_conv1d_transpose_3_loss: 0.0949 - val_conv1d_transpose_4_loss: 0.0576 - val_conv1d_transpose_5_loss: 0.0570 - val_conv1d_transpose_3_mse: 0.0949 - val_conv1d_transpose_4_mse: 0.0576 - val_conv1d_transpose_5_mse: 0.0570\n",
      "Epoch 4/50\n",
      "498/498 [==============================] - 40s 80ms/step - loss: 0.1294 - conv1d_transpose_3_loss: 0.0664 - conv1d_transpose_4_loss: 0.0277 - conv1d_transpose_5_loss: 0.0353 - conv1d_transpose_3_mse: 0.0664 - conv1d_transpose_4_mse: 0.0277 - conv1d_transpose_5_mse: 0.0353 - val_loss: 0.2009 - val_conv1d_transpose_3_loss: 0.0907 - val_conv1d_transpose_4_loss: 0.0548 - val_conv1d_transpose_5_loss: 0.0554 - val_conv1d_transpose_3_mse: 0.0907 - val_conv1d_transpose_4_mse: 0.0548 - val_conv1d_transpose_5_mse: 0.0554\n",
      "Epoch 5/50\n",
      "498/498 [==============================] - 37s 74ms/step - loss: 0.1178 - conv1d_transpose_3_loss: 0.0603 - conv1d_transpose_4_loss: 0.0249 - conv1d_transpose_5_loss: 0.0326 - conv1d_transpose_3_mse: 0.0603 - conv1d_transpose_4_mse: 0.0249 - conv1d_transpose_5_mse: 0.0326 - val_loss: 0.1942 - val_conv1d_transpose_3_loss: 0.0878 - val_conv1d_transpose_4_loss: 0.0521 - val_conv1d_transpose_5_loss: 0.0544 - val_conv1d_transpose_3_mse: 0.0878 - val_conv1d_transpose_4_mse: 0.0521 - val_conv1d_transpose_5_mse: 0.0544\n",
      "Epoch 6/50\n",
      "498/498 [==============================] - 37s 75ms/step - loss: 0.1093 - conv1d_transpose_3_loss: 0.0558 - conv1d_transpose_4_loss: 0.0228 - conv1d_transpose_5_loss: 0.0307 - conv1d_transpose_3_mse: 0.0558 - conv1d_transpose_4_mse: 0.0228 - conv1d_transpose_5_mse: 0.0307 - val_loss: 0.1853 - val_conv1d_transpose_3_loss: 0.0843 - val_conv1d_transpose_4_loss: 0.0492 - val_conv1d_transpose_5_loss: 0.0517 - val_conv1d_transpose_3_mse: 0.0843 - val_conv1d_transpose_4_mse: 0.0492 - val_conv1d_transpose_5_mse: 0.0517\n",
      "Epoch 7/50\n",
      "498/498 [==============================] - 41s 82ms/step - loss: 0.1035 - conv1d_transpose_3_loss: 0.0527 - conv1d_transpose_4_loss: 0.0214 - conv1d_transpose_5_loss: 0.0293 - conv1d_transpose_3_mse: 0.0527 - conv1d_transpose_4_mse: 0.0214 - conv1d_transpose_5_mse: 0.0293 - val_loss: 0.1821 - val_conv1d_transpose_3_loss: 0.0818 - val_conv1d_transpose_4_loss: 0.0487 - val_conv1d_transpose_5_loss: 0.0516 - val_conv1d_transpose_3_mse: 0.0818 - val_conv1d_transpose_4_mse: 0.0487 - val_conv1d_transpose_5_mse: 0.0516\n",
      "Epoch 8/50\n",
      "498/498 [==============================] - 49s 98ms/step - loss: 0.0974 - conv1d_transpose_3_loss: 0.0495 - conv1d_transpose_4_loss: 0.0200 - conv1d_transpose_5_loss: 0.0279 - conv1d_transpose_3_mse: 0.0495 - conv1d_transpose_4_mse: 0.0200 - conv1d_transpose_5_mse: 0.0279 - val_loss: 0.1767 - val_conv1d_transpose_3_loss: 0.0799 - val_conv1d_transpose_4_loss: 0.0462 - val_conv1d_transpose_5_loss: 0.0507 - val_conv1d_transpose_3_mse: 0.0799 - val_conv1d_transpose_4_mse: 0.0462 - val_conv1d_transpose_5_mse: 0.0507\n",
      "Epoch 9/50\n",
      "498/498 [==============================] - 45s 90ms/step - loss: 0.0932 - conv1d_transpose_3_loss: 0.0472 - conv1d_transpose_4_loss: 0.0191 - conv1d_transpose_5_loss: 0.0269 - conv1d_transpose_3_mse: 0.0472 - conv1d_transpose_4_mse: 0.0191 - conv1d_transpose_5_mse: 0.0269 - val_loss: 0.1745 - val_conv1d_transpose_3_loss: 0.0786 - val_conv1d_transpose_4_loss: 0.0452 - val_conv1d_transpose_5_loss: 0.0507 - val_conv1d_transpose_3_mse: 0.0786 - val_conv1d_transpose_4_mse: 0.0452 - val_conv1d_transpose_5_mse: 0.0507\n",
      "Epoch 10/50\n",
      "498/498 [==============================] - 36s 72ms/step - loss: 0.0900 - conv1d_transpose_3_loss: 0.0454 - conv1d_transpose_4_loss: 0.0184 - conv1d_transpose_5_loss: 0.0262 - conv1d_transpose_3_mse: 0.0454 - conv1d_transpose_4_mse: 0.0184 - conv1d_transpose_5_mse: 0.0262 - val_loss: 0.1719 - val_conv1d_transpose_3_loss: 0.0780 - val_conv1d_transpose_4_loss: 0.0446 - val_conv1d_transpose_5_loss: 0.0494 - val_conv1d_transpose_3_mse: 0.0780 - val_conv1d_transpose_4_mse: 0.0446 - val_conv1d_transpose_5_mse: 0.0494\n",
      "Epoch 11/50\n",
      "498/498 [==============================] - 46s 93ms/step - loss: 0.0868 - conv1d_transpose_3_loss: 0.0437 - conv1d_transpose_4_loss: 0.0176 - conv1d_transpose_5_loss: 0.0255 - conv1d_transpose_3_mse: 0.0437 - conv1d_transpose_4_mse: 0.0176 - conv1d_transpose_5_mse: 0.0255 - val_loss: 0.1714 - val_conv1d_transpose_3_loss: 0.0774 - val_conv1d_transpose_4_loss: 0.0449 - val_conv1d_transpose_5_loss: 0.0490 - val_conv1d_transpose_3_mse: 0.0774 - val_conv1d_transpose_4_mse: 0.0449 - val_conv1d_transpose_5_mse: 0.0490\n",
      "Epoch 12/50\n",
      "498/498 [==============================] - 77s 154ms/step - loss: 0.0842 - conv1d_transpose_3_loss: 0.0423 - conv1d_transpose_4_loss: 0.0171 - conv1d_transpose_5_loss: 0.0248 - conv1d_transpose_3_mse: 0.0423 - conv1d_transpose_4_mse: 0.0171 - conv1d_transpose_5_mse: 0.0248 - val_loss: 0.1706 - val_conv1d_transpose_3_loss: 0.0764 - val_conv1d_transpose_4_loss: 0.0447 - val_conv1d_transpose_5_loss: 0.0495 - val_conv1d_transpose_3_mse: 0.0764 - val_conv1d_transpose_4_mse: 0.0447 - val_conv1d_transpose_5_mse: 0.0495\n",
      "Epoch 13/50\n",
      "498/498 [==============================] - 76s 152ms/step - loss: 0.0826 - conv1d_transpose_3_loss: 0.0415 - conv1d_transpose_4_loss: 0.0168 - conv1d_transpose_5_loss: 0.0244 - conv1d_transpose_3_mse: 0.0415 - conv1d_transpose_4_mse: 0.0168 - conv1d_transpose_5_mse: 0.0244 - val_loss: 0.1672 - val_conv1d_transpose_3_loss: 0.0756 - val_conv1d_transpose_4_loss: 0.0434 - val_conv1d_transpose_5_loss: 0.0481 - val_conv1d_transpose_3_mse: 0.0756 - val_conv1d_transpose_4_mse: 0.0434 - val_conv1d_transpose_5_mse: 0.0481\n",
      "Epoch 14/50\n",
      "498/498 [==============================] - 54s 108ms/step - loss: 0.0808 - conv1d_transpose_3_loss: 0.0405 - conv1d_transpose_4_loss: 0.0163 - conv1d_transpose_5_loss: 0.0240 - conv1d_transpose_3_mse: 0.0405 - conv1d_transpose_4_mse: 0.0163 - conv1d_transpose_5_mse: 0.0240 - val_loss: 0.1699 - val_conv1d_transpose_3_loss: 0.0762 - val_conv1d_transpose_4_loss: 0.0442 - val_conv1d_transpose_5_loss: 0.0496 - val_conv1d_transpose_3_mse: 0.0762 - val_conv1d_transpose_4_mse: 0.0442 - val_conv1d_transpose_5_mse: 0.0496\n",
      "Epoch 15/50\n",
      "498/498 [==============================] - 34s 69ms/step - loss: 0.0785 - conv1d_transpose_3_loss: 0.0394 - conv1d_transpose_4_loss: 0.0158 - conv1d_transpose_5_loss: 0.0234 - conv1d_transpose_3_mse: 0.0394 - conv1d_transpose_4_mse: 0.0158 - conv1d_transpose_5_mse: 0.0234 - val_loss: 0.1697 - val_conv1d_transpose_3_loss: 0.0754 - val_conv1d_transpose_4_loss: 0.0456 - val_conv1d_transpose_5_loss: 0.0488 - val_conv1d_transpose_3_mse: 0.0754 - val_conv1d_transpose_4_mse: 0.0456 - val_conv1d_transpose_5_mse: 0.0488\n",
      "Epoch 16/50\n",
      "498/498 [==============================] - 37s 73ms/step - loss: 0.0778 - conv1d_transpose_3_loss: 0.0389 - conv1d_transpose_4_loss: 0.0156 - conv1d_transpose_5_loss: 0.0232 - conv1d_transpose_3_mse: 0.0389 - conv1d_transpose_4_mse: 0.0156 - conv1d_transpose_5_mse: 0.0232 - val_loss: 0.1661 - val_conv1d_transpose_3_loss: 0.0740 - val_conv1d_transpose_4_loss: 0.0436 - val_conv1d_transpose_5_loss: 0.0485 - val_conv1d_transpose_3_mse: 0.0740 - val_conv1d_transpose_4_mse: 0.0436 - val_conv1d_transpose_5_mse: 0.0485\n",
      "Epoch 17/50\n",
      "498/498 [==============================] - 35s 71ms/step - loss: 0.0754 - conv1d_transpose_3_loss: 0.0377 - conv1d_transpose_4_loss: 0.0150 - conv1d_transpose_5_loss: 0.0226 - conv1d_transpose_3_mse: 0.0377 - conv1d_transpose_4_mse: 0.0150 - conv1d_transpose_5_mse: 0.0226 - val_loss: 0.1671 - val_conv1d_transpose_3_loss: 0.0755 - val_conv1d_transpose_4_loss: 0.0431 - val_conv1d_transpose_5_loss: 0.0485 - val_conv1d_transpose_3_mse: 0.0755 - val_conv1d_transpose_4_mse: 0.0431 - val_conv1d_transpose_5_mse: 0.0485\n",
      "Epoch 18/50\n",
      "498/498 [==============================] - 37s 74ms/step - loss: 0.0746 - conv1d_transpose_3_loss: 0.0373 - conv1d_transpose_4_loss: 0.0149 - conv1d_transpose_5_loss: 0.0225 - conv1d_transpose_3_mse: 0.0373 - conv1d_transpose_4_mse: 0.0149 - conv1d_transpose_5_mse: 0.0225 - val_loss: 0.1647 - val_conv1d_transpose_3_loss: 0.0740 - val_conv1d_transpose_4_loss: 0.0431 - val_conv1d_transpose_5_loss: 0.0476 - val_conv1d_transpose_3_mse: 0.0740 - val_conv1d_transpose_4_mse: 0.0431 - val_conv1d_transpose_5_mse: 0.0476\n",
      "Epoch 19/50\n",
      "498/498 [==============================] - 36s 72ms/step - loss: 0.0733 - conv1d_transpose_3_loss: 0.0366 - conv1d_transpose_4_loss: 0.0146 - conv1d_transpose_5_loss: 0.0221 - conv1d_transpose_3_mse: 0.0366 - conv1d_transpose_4_mse: 0.0146 - conv1d_transpose_5_mse: 0.0221 - val_loss: 0.1653 - val_conv1d_transpose_3_loss: 0.0737 - val_conv1d_transpose_4_loss: 0.0438 - val_conv1d_transpose_5_loss: 0.0478 - val_conv1d_transpose_3_mse: 0.0737 - val_conv1d_transpose_4_mse: 0.0438 - val_conv1d_transpose_5_mse: 0.0478\n",
      "Epoch 20/50\n",
      "498/498 [==============================] - 75s 152ms/step - loss: 0.0726 - conv1d_transpose_3_loss: 0.0362 - conv1d_transpose_4_loss: 0.0145 - conv1d_transpose_5_loss: 0.0219 - conv1d_transpose_3_mse: 0.0362 - conv1d_transpose_4_mse: 0.0145 - conv1d_transpose_5_mse: 0.0219 - val_loss: 0.1677 - val_conv1d_transpose_3_loss: 0.0754 - val_conv1d_transpose_4_loss: 0.0439 - val_conv1d_transpose_5_loss: 0.0483 - val_conv1d_transpose_3_mse: 0.0754 - val_conv1d_transpose_4_mse: 0.0439 - val_conv1d_transpose_5_mse: 0.0483\n",
      "Epoch 21/50\n",
      "498/498 [==============================] - 75s 150ms/step - loss: 0.0714 - conv1d_transpose_3_loss: 0.0356 - conv1d_transpose_4_loss: 0.0141 - conv1d_transpose_5_loss: 0.0217 - conv1d_transpose_3_mse: 0.0356 - conv1d_transpose_4_mse: 0.0141 - conv1d_transpose_5_mse: 0.0217 - val_loss: 0.1686 - val_conv1d_transpose_3_loss: 0.0757 - val_conv1d_transpose_4_loss: 0.0434 - val_conv1d_transpose_5_loss: 0.0496 - val_conv1d_transpose_3_mse: 0.0757 - val_conv1d_transpose_4_mse: 0.0434 - val_conv1d_transpose_5_mse: 0.0496\n",
      "Epoch 22/50\n",
      "498/498 [==============================] - 74s 149ms/step - loss: 0.0716 - conv1d_transpose_3_loss: 0.0357 - conv1d_transpose_4_loss: 0.0142 - conv1d_transpose_5_loss: 0.0217 - conv1d_transpose_3_mse: 0.0357 - conv1d_transpose_4_mse: 0.0142 - conv1d_transpose_5_mse: 0.0217 - val_loss: 0.1639 - val_conv1d_transpose_3_loss: 0.0740 - val_conv1d_transpose_4_loss: 0.0425 - val_conv1d_transpose_5_loss: 0.0474 - val_conv1d_transpose_3_mse: 0.0740 - val_conv1d_transpose_4_mse: 0.0425 - val_conv1d_transpose_5_mse: 0.0474\n",
      "Epoch 23/50\n",
      "498/498 [==============================] - 65s 130ms/step - loss: 0.0700 - conv1d_transpose_3_loss: 0.0349 - conv1d_transpose_4_loss: 0.0138 - conv1d_transpose_5_loss: 0.0213 - conv1d_transpose_3_mse: 0.0349 - conv1d_transpose_4_mse: 0.0138 - conv1d_transpose_5_mse: 0.0213 - val_loss: 0.1624 - val_conv1d_transpose_3_loss: 0.0730 - val_conv1d_transpose_4_loss: 0.0420 - val_conv1d_transpose_5_loss: 0.0474 - val_conv1d_transpose_3_mse: 0.0730 - val_conv1d_transpose_4_mse: 0.0420 - val_conv1d_transpose_5_mse: 0.0474\n",
      "Epoch 24/50\n",
      "498/498 [==============================] - 33s 66ms/step - loss: 0.0698 - conv1d_transpose_3_loss: 0.0348 - conv1d_transpose_4_loss: 0.0138 - conv1d_transpose_5_loss: 0.0213 - conv1d_transpose_3_mse: 0.0348 - conv1d_transpose_4_mse: 0.0138 - conv1d_transpose_5_mse: 0.0213 - val_loss: 0.1641 - val_conv1d_transpose_3_loss: 0.0731 - val_conv1d_transpose_4_loss: 0.0436 - val_conv1d_transpose_5_loss: 0.0474 - val_conv1d_transpose_3_mse: 0.0731 - val_conv1d_transpose_4_mse: 0.0436 - val_conv1d_transpose_5_mse: 0.0474\n",
      "Epoch 25/50\n",
      "498/498 [==============================] - 35s 71ms/step - loss: 0.0697 - conv1d_transpose_3_loss: 0.0347 - conv1d_transpose_4_loss: 0.0137 - conv1d_transpose_5_loss: 0.0213 - conv1d_transpose_3_mse: 0.0347 - conv1d_transpose_4_mse: 0.0137 - conv1d_transpose_5_mse: 0.0213 - val_loss: 0.1661 - val_conv1d_transpose_3_loss: 0.0743 - val_conv1d_transpose_4_loss: 0.0434 - val_conv1d_transpose_5_loss: 0.0484 - val_conv1d_transpose_3_mse: 0.0743 - val_conv1d_transpose_4_mse: 0.0434 - val_conv1d_transpose_5_mse: 0.0484\n",
      "Epoch 26/50\n",
      "498/498 [==============================] - 39s 79ms/step - loss: 0.0684 - conv1d_transpose_3_loss: 0.0341 - conv1d_transpose_4_loss: 0.0135 - conv1d_transpose_5_loss: 0.0209 - conv1d_transpose_3_mse: 0.0341 - conv1d_transpose_4_mse: 0.0135 - conv1d_transpose_5_mse: 0.0209 - val_loss: 0.1639 - val_conv1d_transpose_3_loss: 0.0734 - val_conv1d_transpose_4_loss: 0.0428 - val_conv1d_transpose_5_loss: 0.0476 - val_conv1d_transpose_3_mse: 0.0734 - val_conv1d_transpose_4_mse: 0.0428 - val_conv1d_transpose_5_mse: 0.0476\n",
      "Epoch 27/50\n",
      "498/498 [==============================] - 34s 68ms/step - loss: 0.0686 - conv1d_transpose_3_loss: 0.0341 - conv1d_transpose_4_loss: 0.0135 - conv1d_transpose_5_loss: 0.0210 - conv1d_transpose_3_mse: 0.0341 - conv1d_transpose_4_mse: 0.0135 - conv1d_transpose_5_mse: 0.0210 - val_loss: 0.1651 - val_conv1d_transpose_3_loss: 0.0742 - val_conv1d_transpose_4_loss: 0.0431 - val_conv1d_transpose_5_loss: 0.0478 - val_conv1d_transpose_3_mse: 0.0742 - val_conv1d_transpose_4_mse: 0.0431 - val_conv1d_transpose_5_mse: 0.0478\n",
      "Epoch 28/50\n",
      "498/498 [==============================] - 36s 72ms/step - loss: 0.0666 - conv1d_transpose_3_loss: 0.0332 - conv1d_transpose_4_loss: 0.0131 - conv1d_transpose_5_loss: 0.0204 - conv1d_transpose_3_mse: 0.0332 - conv1d_transpose_4_mse: 0.0131 - conv1d_transpose_5_mse: 0.0204 - val_loss: 0.1625 - val_conv1d_transpose_3_loss: 0.0729 - val_conv1d_transpose_4_loss: 0.0421 - val_conv1d_transpose_5_loss: 0.0475 - val_conv1d_transpose_3_mse: 0.0729 - val_conv1d_transpose_4_mse: 0.0421 - val_conv1d_transpose_5_mse: 0.0475\n",
      "Epoch 29/50\n",
      "498/498 [==============================] - 76s 153ms/step - loss: 0.0660 - conv1d_transpose_3_loss: 0.0329 - conv1d_transpose_4_loss: 0.0129 - conv1d_transpose_5_loss: 0.0202 - conv1d_transpose_3_mse: 0.0329 - conv1d_transpose_4_mse: 0.0129 - conv1d_transpose_5_mse: 0.0202 - val_loss: 0.1628 - val_conv1d_transpose_3_loss: 0.0728 - val_conv1d_transpose_4_loss: 0.0424 - val_conv1d_transpose_5_loss: 0.0476 - val_conv1d_transpose_3_mse: 0.0728 - val_conv1d_transpose_4_mse: 0.0424 - val_conv1d_transpose_5_mse: 0.0476\n",
      "Epoch 30/50\n",
      "498/498 [==============================] - 75s 150ms/step - loss: 0.0662 - conv1d_transpose_3_loss: 0.0330 - conv1d_transpose_4_loss: 0.0129 - conv1d_transpose_5_loss: 0.0203 - conv1d_transpose_3_mse: 0.0330 - conv1d_transpose_4_mse: 0.0129 - conv1d_transpose_5_mse: 0.0203 - val_loss: 0.1629 - val_conv1d_transpose_3_loss: 0.0726 - val_conv1d_transpose_4_loss: 0.0425 - val_conv1d_transpose_5_loss: 0.0478 - val_conv1d_transpose_3_mse: 0.0726 - val_conv1d_transpose_4_mse: 0.0425 - val_conv1d_transpose_5_mse: 0.0478\n",
      "Epoch 31/50\n"
     ]
    },
    {
     "name": "stdout",
     "output_type": "stream",
     "text": [
      "498/498 [==============================] - 73s 148ms/step - loss: 0.0657 - conv1d_transpose_3_loss: 0.0327 - conv1d_transpose_4_loss: 0.0129 - conv1d_transpose_5_loss: 0.0202 - conv1d_transpose_3_mse: 0.0327 - conv1d_transpose_4_mse: 0.0129 - conv1d_transpose_5_mse: 0.0202 - val_loss: 0.1667 - val_conv1d_transpose_3_loss: 0.0744 - val_conv1d_transpose_4_loss: 0.0437 - val_conv1d_transpose_5_loss: 0.0485 - val_conv1d_transpose_3_mse: 0.0744 - val_conv1d_transpose_4_mse: 0.0437 - val_conv1d_transpose_5_mse: 0.0485\n",
      "Epoch 32/50\n",
      "498/498 [==============================] - 57s 115ms/step - loss: 0.0653 - conv1d_transpose_3_loss: 0.0325 - conv1d_transpose_4_loss: 0.0128 - conv1d_transpose_5_loss: 0.0201 - conv1d_transpose_3_mse: 0.0325 - conv1d_transpose_4_mse: 0.0128 - conv1d_transpose_5_mse: 0.0201 - val_loss: 0.1656 - val_conv1d_transpose_3_loss: 0.0736 - val_conv1d_transpose_4_loss: 0.0431 - val_conv1d_transpose_5_loss: 0.0490 - val_conv1d_transpose_3_mse: 0.0736 - val_conv1d_transpose_4_mse: 0.0431 - val_conv1d_transpose_5_mse: 0.0490\n",
      "Epoch 33/50\n",
      "498/498 [==============================] - 33s 66ms/step - loss: 0.0661 - conv1d_transpose_3_loss: 0.0328 - conv1d_transpose_4_loss: 0.0129 - conv1d_transpose_5_loss: 0.0203 - conv1d_transpose_3_mse: 0.0328 - conv1d_transpose_4_mse: 0.0129 - conv1d_transpose_5_mse: 0.0203 - val_loss: 0.1854 - val_conv1d_transpose_3_loss: 0.0817 - val_conv1d_transpose_4_loss: 0.0500 - val_conv1d_transpose_5_loss: 0.0538 - val_conv1d_transpose_3_mse: 0.0817 - val_conv1d_transpose_4_mse: 0.0500 - val_conv1d_transpose_5_mse: 0.0538\n",
      "Epoch 34/50\n",
      "498/498 [==============================] - 35s 71ms/step - loss: 0.0672 - conv1d_transpose_3_loss: 0.0336 - conv1d_transpose_4_loss: 0.0132 - conv1d_transpose_5_loss: 0.0204 - conv1d_transpose_3_mse: 0.0336 - conv1d_transpose_4_mse: 0.0132 - conv1d_transpose_5_mse: 0.0204 - val_loss: 0.1632 - val_conv1d_transpose_3_loss: 0.0728 - val_conv1d_transpose_4_loss: 0.0428 - val_conv1d_transpose_5_loss: 0.0477 - val_conv1d_transpose_3_mse: 0.0728 - val_conv1d_transpose_4_mse: 0.0428 - val_conv1d_transpose_5_mse: 0.0477\n",
      "Epoch 35/50\n",
      "498/498 [==============================] - 37s 74ms/step - loss: 0.0644 - conv1d_transpose_3_loss: 0.0320 - conv1d_transpose_4_loss: 0.0125 - conv1d_transpose_5_loss: 0.0198 - conv1d_transpose_3_mse: 0.0320 - conv1d_transpose_4_mse: 0.0125 - conv1d_transpose_5_mse: 0.0198 - val_loss: 0.1618 - val_conv1d_transpose_3_loss: 0.0724 - val_conv1d_transpose_4_loss: 0.0418 - val_conv1d_transpose_5_loss: 0.0476 - val_conv1d_transpose_3_mse: 0.0724 - val_conv1d_transpose_4_mse: 0.0418 - val_conv1d_transpose_5_mse: 0.0476\n",
      "Epoch 36/50\n",
      "498/498 [==============================] - 61s 122ms/step - loss: 0.0631 - conv1d_transpose_3_loss: 0.0313 - conv1d_transpose_4_loss: 0.0122 - conv1d_transpose_5_loss: 0.0195 - conv1d_transpose_3_mse: 0.0313 - conv1d_transpose_4_mse: 0.0122 - conv1d_transpose_5_mse: 0.0195 - val_loss: 0.1658 - val_conv1d_transpose_3_loss: 0.0727 - val_conv1d_transpose_4_loss: 0.0426 - val_conv1d_transpose_5_loss: 0.0504 - val_conv1d_transpose_3_mse: 0.0727 - val_conv1d_transpose_4_mse: 0.0426 - val_conv1d_transpose_5_mse: 0.0504\n",
      "Epoch 37/50\n",
      "498/498 [==============================] - 76s 153ms/step - loss: 0.0629 - conv1d_transpose_3_loss: 0.0314 - conv1d_transpose_4_loss: 0.0121 - conv1d_transpose_5_loss: 0.0194 - conv1d_transpose_3_mse: 0.0314 - conv1d_transpose_4_mse: 0.0121 - conv1d_transpose_5_mse: 0.0194 - val_loss: 0.1670 - val_conv1d_transpose_3_loss: 0.0744 - val_conv1d_transpose_4_loss: 0.0447 - val_conv1d_transpose_5_loss: 0.0478 - val_conv1d_transpose_3_mse: 0.0744 - val_conv1d_transpose_4_mse: 0.0447 - val_conv1d_transpose_5_mse: 0.0478\n",
      "Epoch 38/50\n",
      "498/498 [==============================] - 75s 151ms/step - loss: 0.0644 - conv1d_transpose_3_loss: 0.0320 - conv1d_transpose_4_loss: 0.0125 - conv1d_transpose_5_loss: 0.0199 - conv1d_transpose_3_mse: 0.0320 - conv1d_transpose_4_mse: 0.0125 - conv1d_transpose_5_mse: 0.0199 - val_loss: 0.1652 - val_conv1d_transpose_3_loss: 0.0740 - val_conv1d_transpose_4_loss: 0.0435 - val_conv1d_transpose_5_loss: 0.0477 - val_conv1d_transpose_3_mse: 0.0740 - val_conv1d_transpose_4_mse: 0.0435 - val_conv1d_transpose_5_mse: 0.0477\n",
      "Epoch 39/50\n",
      "498/498 [==============================] - 75s 151ms/step - loss: 0.0629 - conv1d_transpose_3_loss: 0.0313 - conv1d_transpose_4_loss: 0.0122 - conv1d_transpose_5_loss: 0.0194 - conv1d_transpose_3_mse: 0.0313 - conv1d_transpose_4_mse: 0.0122 - conv1d_transpose_5_mse: 0.0194 - val_loss: 0.1647 - val_conv1d_transpose_3_loss: 0.0733 - val_conv1d_transpose_4_loss: 0.0434 - val_conv1d_transpose_5_loss: 0.0481 - val_conv1d_transpose_3_mse: 0.0733 - val_conv1d_transpose_4_mse: 0.0434 - val_conv1d_transpose_5_mse: 0.0481\n",
      "Epoch 40/50\n",
      "498/498 [==============================] - 65s 131ms/step - loss: 0.0615 - conv1d_transpose_3_loss: 0.0306 - conv1d_transpose_4_loss: 0.0119 - conv1d_transpose_5_loss: 0.0191 - conv1d_transpose_3_mse: 0.0306 - conv1d_transpose_4_mse: 0.0119 - conv1d_transpose_5_mse: 0.0191 - val_loss: 0.1646 - val_conv1d_transpose_3_loss: 0.0736 - val_conv1d_transpose_4_loss: 0.0426 - val_conv1d_transpose_5_loss: 0.0484 - val_conv1d_transpose_3_mse: 0.0736 - val_conv1d_transpose_4_mse: 0.0426 - val_conv1d_transpose_5_mse: 0.0484\n",
      "Epoch 41/50\n",
      "498/498 [==============================] - 33s 66ms/step - loss: 0.0624 - conv1d_transpose_3_loss: 0.0310 - conv1d_transpose_4_loss: 0.0121 - conv1d_transpose_5_loss: 0.0193 - conv1d_transpose_3_mse: 0.0310 - conv1d_transpose_4_mse: 0.0121 - conv1d_transpose_5_mse: 0.0193 - val_loss: 0.1640 - val_conv1d_transpose_3_loss: 0.0731 - val_conv1d_transpose_4_loss: 0.0425 - val_conv1d_transpose_5_loss: 0.0484 - val_conv1d_transpose_3_mse: 0.0731 - val_conv1d_transpose_4_mse: 0.0425 - val_conv1d_transpose_5_mse: 0.0484\n",
      "Epoch 42/50\n",
      "498/498 [==============================] - 34s 69ms/step - loss: 0.0630 - conv1d_transpose_3_loss: 0.0313 - conv1d_transpose_4_loss: 0.0122 - conv1d_transpose_5_loss: 0.0194 - conv1d_transpose_3_mse: 0.0313 - conv1d_transpose_4_mse: 0.0122 - conv1d_transpose_5_mse: 0.0194 - val_loss: 0.1633 - val_conv1d_transpose_3_loss: 0.0734 - val_conv1d_transpose_4_loss: 0.0422 - val_conv1d_transpose_5_loss: 0.0477 - val_conv1d_transpose_3_mse: 0.0734 - val_conv1d_transpose_4_mse: 0.0422 - val_conv1d_transpose_5_mse: 0.0477\n",
      "Epoch 43/50\n",
      "498/498 [==============================] - 35s 70ms/step - loss: 0.0617 - conv1d_transpose_3_loss: 0.0307 - conv1d_transpose_4_loss: 0.0119 - conv1d_transpose_5_loss: 0.0191 - conv1d_transpose_3_mse: 0.0307 - conv1d_transpose_4_mse: 0.0119 - conv1d_transpose_5_mse: 0.0191 - val_loss: 0.1644 - val_conv1d_transpose_3_loss: 0.0738 - val_conv1d_transpose_4_loss: 0.0426 - val_conv1d_transpose_5_loss: 0.0480 - val_conv1d_transpose_3_mse: 0.0738 - val_conv1d_transpose_4_mse: 0.0426 - val_conv1d_transpose_5_mse: 0.0480\n",
      "Epoch 44/50\n",
      "498/498 [==============================] - 70s 141ms/step - loss: 0.0618 - conv1d_transpose_3_loss: 0.0307 - conv1d_transpose_4_loss: 0.0120 - conv1d_transpose_5_loss: 0.0191 - conv1d_transpose_3_mse: 0.0307 - conv1d_transpose_4_mse: 0.0120 - conv1d_transpose_5_mse: 0.0191 - val_loss: 0.1693 - val_conv1d_transpose_3_loss: 0.0737 - val_conv1d_transpose_4_loss: 0.0435 - val_conv1d_transpose_5_loss: 0.0521 - val_conv1d_transpose_3_mse: 0.0737 - val_conv1d_transpose_4_mse: 0.0435 - val_conv1d_transpose_5_mse: 0.0521\n",
      "Epoch 45/50\n",
      "498/498 [==============================] - 75s 151ms/step - loss: 0.0620 - conv1d_transpose_3_loss: 0.0308 - conv1d_transpose_4_loss: 0.0120 - conv1d_transpose_5_loss: 0.0192 - conv1d_transpose_3_mse: 0.0308 - conv1d_transpose_4_mse: 0.0120 - conv1d_transpose_5_mse: 0.0192 - val_loss: 0.1611 - val_conv1d_transpose_3_loss: 0.0718 - val_conv1d_transpose_4_loss: 0.0423 - val_conv1d_transpose_5_loss: 0.0470 - val_conv1d_transpose_3_mse: 0.0718 - val_conv1d_transpose_4_mse: 0.0423 - val_conv1d_transpose_5_mse: 0.0470\n",
      "Epoch 46/50\n",
      "498/498 [==============================] - 74s 150ms/step - loss: 0.0599 - conv1d_transpose_3_loss: 0.0298 - conv1d_transpose_4_loss: 0.0115 - conv1d_transpose_5_loss: 0.0187 - conv1d_transpose_3_mse: 0.0298 - conv1d_transpose_4_mse: 0.0115 - conv1d_transpose_5_mse: 0.0187 - val_loss: 0.1620 - val_conv1d_transpose_3_loss: 0.0718 - val_conv1d_transpose_4_loss: 0.0423 - val_conv1d_transpose_5_loss: 0.0479 - val_conv1d_transpose_3_mse: 0.0718 - val_conv1d_transpose_4_mse: 0.0423 - val_conv1d_transpose_5_mse: 0.0479\n",
      "Epoch 47/50\n",
      "498/498 [==============================] - 42s 83ms/step - loss: 0.0609 - conv1d_transpose_3_loss: 0.0302 - conv1d_transpose_4_loss: 0.0117 - conv1d_transpose_5_loss: 0.0189 - conv1d_transpose_3_mse: 0.0302 - conv1d_transpose_4_mse: 0.0117 - conv1d_transpose_5_mse: 0.0189 - val_loss: 0.1632 - val_conv1d_transpose_3_loss: 0.0723 - val_conv1d_transpose_4_loss: 0.0435 - val_conv1d_transpose_5_loss: 0.0474 - val_conv1d_transpose_3_mse: 0.0723 - val_conv1d_transpose_4_mse: 0.0435 - val_conv1d_transpose_5_mse: 0.0474\n",
      "Epoch 48/50\n",
      "498/498 [==============================] - 33s 67ms/step - loss: 0.0604 - conv1d_transpose_3_loss: 0.0300 - conv1d_transpose_4_loss: 0.0116 - conv1d_transpose_5_loss: 0.0188 - conv1d_transpose_3_mse: 0.0300 - conv1d_transpose_4_mse: 0.0116 - conv1d_transpose_5_mse: 0.0188 - val_loss: 0.1631 - val_conv1d_transpose_3_loss: 0.0720 - val_conv1d_transpose_4_loss: 0.0432 - val_conv1d_transpose_5_loss: 0.0479 - val_conv1d_transpose_3_mse: 0.0720 - val_conv1d_transpose_4_mse: 0.0432 - val_conv1d_transpose_5_mse: 0.0479\n",
      "Epoch 49/50\n",
      "498/498 [==============================] - 34s 68ms/step - loss: 0.0603 - conv1d_transpose_3_loss: 0.0300 - conv1d_transpose_4_loss: 0.0116 - conv1d_transpose_5_loss: 0.0187 - conv1d_transpose_3_mse: 0.0300 - conv1d_transpose_4_mse: 0.0116 - conv1d_transpose_5_mse: 0.0187 - val_loss: 0.1654 - val_conv1d_transpose_3_loss: 0.0736 - val_conv1d_transpose_4_loss: 0.0436 - val_conv1d_transpose_5_loss: 0.0482 - val_conv1d_transpose_3_mse: 0.0736 - val_conv1d_transpose_4_mse: 0.0436 - val_conv1d_transpose_5_mse: 0.0482\n",
      "Epoch 50/50\n",
      "498/498 [==============================] - 37s 74ms/step - loss: 0.0609 - conv1d_transpose_3_loss: 0.0303 - conv1d_transpose_4_loss: 0.0117 - conv1d_transpose_5_loss: 0.0189 - conv1d_transpose_3_mse: 0.0303 - conv1d_transpose_4_mse: 0.0117 - conv1d_transpose_5_mse: 0.0189 - val_loss: 0.1626 - val_conv1d_transpose_3_loss: 0.0733 - val_conv1d_transpose_4_loss: 0.0425 - val_conv1d_transpose_5_loss: 0.0468 - val_conv1d_transpose_3_mse: 0.0733 - val_conv1d_transpose_4_mse: 0.0425 - val_conv1d_transpose_5_mse: 0.0468\n"
     ]
    }
   ],
   "source": [
    "history = autoencoder_model.fit([product_name_embedding, category_embedding, about_product_embedding], \n",
    "                    [product_name_embedding, category_embedding, about_product_embedding], \n",
    "                    epochs=50, validation_split=0.2, shuffle=True)"
   ]
  },
  {
   "cell_type": "code",
   "execution_count": 17,
   "id": "666ec2fd",
   "metadata": {},
   "outputs": [],
   "source": [
    "loss = history.history['loss']\n",
    "validation_loss = history.history['val_loss']"
   ]
  },
  {
   "cell_type": "code",
   "execution_count": 18,
   "id": "b3cc579d",
   "metadata": {},
   "outputs": [
    {
     "data": {
      "text/plain": [
       "<matplotlib.legend.Legend at 0x1cba4445690>"
      ]
     },
     "execution_count": 18,
     "metadata": {},
     "output_type": "execute_result"
    },
    {
     "data": {
      "image/png": "[encoded data removed]",
      "text/plain": [
       "<Figure size 432x288 with 1 Axes>"
      ]
     },
     "metadata": {
      "needs_background": "light"
     },
     "output_type": "display_data"
    }
   ],
   "source": [
    "plt.plot(loss, label=\"Training loss\")\n",
    "plt.plot(validation_loss, label=\"Val loss\")\n",
    "plt.legend()"
   ]
  },
  {
   "cell_type": "code",
   "execution_count": 19,
   "id": "74bd3eb9",
   "metadata": {},
   "outputs": [
    {
     "name": "stderr",
     "output_type": "stream",
     "text": [
      "WARNING:absl:Found untraced functions such as _jit_compiled_convolution_op, _jit_compiled_convolution_op, _jit_compiled_convolution_op, _jit_compiled_convolution_op, _jit_compiled_convolution_op while saving (showing 5 of 8). These functions will not be directly callable after loading.\n"
     ]
    },
    {
     "name": "stdout",
     "output_type": "stream",
     "text": [
      "INFO:tensorflow:Assets written to: ./autoencoder_64_512_50_flipkart_0.06\\assets\n"
     ]
    },
    {
     "name": "stderr",
     "output_type": "stream",
     "text": [
      "INFO:tensorflow:Assets written to: ./autoencoder_64_512_50_flipkart_0.06\\assets\n"
     ]
    }
   ],
   "source": [
    "autoencoder_model.save('./autoencoder_64_512_50_flipkart_0.06')"
   ]
  },
  {
   "cell_type": "code",
   "execution_count": 20,
   "id": "02f61a87",
   "metadata": {},
   "outputs": [
    {
     "data": {
      "text/plain": [
       "[<keras.engine.input_layer.InputLayer at 0x1cbff32a530>,\n",
       " <keras.engine.input_layer.InputLayer at 0x1cbff32ae00>,\n",
       " <keras.engine.input_layer.InputLayer at 0x1cbff3297e0>,\n",
       " <keras.layers.merging.concatenate.Concatenate at 0x1cbff329960>,\n",
       " <keras.layers.convolutional.conv1d.Conv1D at 0x1cbff32b070>,\n",
       " <keras.layers.convolutional.conv1d.Conv1D at 0x1cbcd871ff0>,\n",
       " <keras.layers.reshaping.flatten.Flatten at 0x1cbcd871e10>,\n",
       " <keras.layers.core.dense.Dense at 0x1cbff32b400>,\n",
       " <keras.layers.reshaping.reshape.Reshape at 0x1cbff433f70>,\n",
       " <keras.layers.convolutional.conv1d_transpose.Conv1DTranspose at 0x1cbff4331c0>,\n",
       " <keras.layers.convolutional.conv1d_transpose.Conv1DTranspose at 0x1cbcc52fc70>,\n",
       " <keras.layers.convolutional.conv1d_transpose.Conv1DTranspose at 0x1cbfd650df0>,\n",
       " <keras.layers.convolutional.conv1d_transpose.Conv1DTranspose at 0x1cbff32ab90>,\n",
       " <keras.layers.convolutional.conv1d_transpose.Conv1DTranspose at 0x1cbff47e260>,\n",
       " <keras.layers.convolutional.conv1d_transpose.Conv1DTranspose at 0x1cbff47eef0>]"
      ]
     },
     "execution_count": 20,
     "metadata": {},
     "output_type": "execute_result"
    }
   ],
   "source": [
    "autoencoder_model.layers"
   ]
  },
  {
   "cell_type": "code",
   "execution_count": 21,
   "id": "8e23c93a",
   "metadata": {},
   "outputs": [],
   "source": [
    "product_name = Input(shape=(1, 768))\n",
    "category = Input(shape=(1, 768))\n",
    "description = Input(shape=(1, 768))\n",
    "\n",
    "encoder = concatenate([product_name, category, description])\n",
    "encoder = Conv1D(filters=64, kernel_size=3, strides=1, padding=\"causal\", activation='relu', weights=autoencoder_model.layers[4].get_weights())(encoder)\n",
    "encoder = Conv1D(filters=512, kernel_size=3, strides=1, padding=\"causal\", activation='relu',  weights=autoencoder_model.layers[5].get_weights())(encoder)\n",
    "encoder = Flatten()(encoder)\n",
    "encoder = Dense(512,  weights=autoencoder_model.layers[7].get_weights())(encoder)\n",
    "\n",
    "encoder_model = Model(inputs=[product_name, category, description], outputs=encoder, name=\"encoder_model\")"
   ]
  },
  {
   "cell_type": "code",
   "execution_count": 22,
   "id": "7c9adc33",
   "metadata": {},
   "outputs": [
    {
     "name": "stdout",
     "output_type": "stream",
     "text": [
      "Model: \"encoder_model\"\n",
      "__________________________________________________________________________________________________\n",
      " Layer (type)                   Output Shape         Param #     Connected to                     \n",
      "==================================================================================================\n",
      " input_4 (InputLayer)           [(None, 1, 768)]     0           []                               \n",
      "                                                                                                  \n",
      " input_5 (InputLayer)           [(None, 1, 768)]     0           []                               \n",
      "                                                                                                  \n",
      " input_6 (InputLayer)           [(None, 1, 768)]     0           []                               \n",
      "                                                                                                  \n",
      " concatenate_1 (Concatenate)    (None, 1, 2304)      0           ['input_4[0][0]',                \n",
      "                                                                  'input_5[0][0]',                \n",
      "                                                                  'input_6[0][0]']                \n",
      "                                                                                                  \n",
      " conv1d_2 (Conv1D)              (None, 1, 64)        442432      ['concatenate_1[0][0]']          \n",
      "                                                                                                  \n",
      " conv1d_3 (Conv1D)              (None, 1, 512)       98816       ['conv1d_2[0][0]']               \n",
      "                                                                                                  \n",
      " flatten_1 (Flatten)            (None, 512)          0           ['conv1d_3[0][0]']               \n",
      "                                                                                                  \n",
      " dense_1 (Dense)                (None, 512)          262656      ['flatten_1[0][0]']              \n",
      "                                                                                                  \n",
      "==================================================================================================\n",
      "Total params: 803,904\n",
      "Trainable params: 803,904\n",
      "Non-trainable params: 0\n",
      "__________________________________________________________________________________________________\n"
     ]
    }
   ],
   "source": [
    "encoder_model.summary()"
   ]
  },
  {
   "cell_type": "code",
   "execution_count": 24,
   "id": "f5c6e897",
   "metadata": {},
   "outputs": [
    {
     "data": {
      "image/png": "[encoded data removed]",
      "text/plain": [
       "<IPython.core.display.Image object>"
      ]
     },
     "execution_count": 24,
     "metadata": {},
     "output_type": "execute_result"
    }
   ],
   "source": [
    "tf.keras.utils.plot_model(encoder_model, to_file='encoder_model.png', show_shapes=True)"
   ]
  },
  {
   "cell_type": "code",
   "execution_count": 26,
   "id": "a0ee454e",
   "metadata": {},
   "outputs": [
    {
     "name": "stdout",
     "output_type": "stream",
     "text": [
      "WARNING:tensorflow:Compiled the loaded model, but the compiled metrics have yet to be built. `model.compile_metrics` will be empty until you train or evaluate the model.\n"
     ]
    },
    {
     "name": "stderr",
     "output_type": "stream",
     "text": [
      "WARNING:tensorflow:Compiled the loaded model, but the compiled metrics have yet to be built. `model.compile_metrics` will be empty until you train or evaluate the model.\n",
      "WARNING:absl:Found untraced functions such as _jit_compiled_convolution_op, _jit_compiled_convolution_op while saving (showing 2 of 2). These functions will not be directly callable after loading.\n"
     ]
    },
    {
     "name": "stdout",
     "output_type": "stream",
     "text": [
      "INFO:tensorflow:Assets written to: ./encoder_64_512_50_flipkart\\assets\n"
     ]
    },
    {
     "name": "stderr",
     "output_type": "stream",
     "text": [
      "INFO:tensorflow:Assets written to: ./encoder_64_512_50_flipkart\\assets\n"
     ]
    }
   ],
   "source": [
    "encoder_model.save('./encoder_64_512_50_flipkart')"
   ]
  },
  {
   "cell_type": "code",
   "execution_count": 5,
   "id": "94cbbf8a",
   "metadata": {},
   "outputs": [
    {
     "name": "stdout",
     "output_type": "stream",
     "text": [
      "WARNING:tensorflow:No training configuration found in save file, so the model was *not* compiled. Compile it manually.\n"
     ]
    }
   ],
   "source": [
    "encoder_model = tf.keras.models.load_model('../utils/models/encoder_64_512_50_flipkart')"
   ]
  },
  {
   "cell_type": "code",
   "execution_count": 9,
   "id": "09b436f2",
   "metadata": {},
   "outputs": [],
   "source": [
    "p1 = [\"Wayona Nylon Braided USB\", \"Computers&Accessories\", \"High Compatibility : Compatible With iPhone 12, 11, X/XsMax/Xr ,iPhone 8/8 Plus,iPhone 7/7 Plus,iPhone 6s/6s Plus,iPhone 6/6 Plus,iPhone 5/5s/5c/se,iPad Pro,iPad Air 1/2,iPad mini 1/2/3,iPod nano7,iPod touch and more apple devices.|Fast Charge&Data Sync : It can charge and sync simultaneously at a rapid speed, Compatible with any charging adaptor, multi-port charging station or power bank.|Durability : Durable nylon braided design with premium aluminum housing and toughened nylon fiber wound tightly around the cord lending it superior durability and adding a bit to its flexibility.\"]\n",
    "p2 = [\"AmazonBasics Flexible Premium HDMI Cable\", \"Electronics\", \"Flexible, lightweight HDMI cable for connecting media devices to playback display such as HDTVs, projectors, and more|Compatible with Blu-Ray players, computers, Apple TV, Roku, cable, PS4, Xbox One, and other HDMI-compatible devices|Solid copper conductors and full metal jacket shielding for durability and high-performance connectivity|Supports Ethernet, 3D, 4K video and Audio Return Channel (ARC)\"]"
   ]
  },
  {
   "cell_type": "code",
   "execution_count": 17,
   "id": "5ed3d21e",
   "metadata": {},
   "outputs": [],
   "source": [
    "name_embedding_1 = np.expand_dims(model.encode(p1[0]), axis=0)\n",
    "category_embedding_1 = np.expand_dims(model.encode(p1[1]), axis=0)\n",
    "description_embedding_1 = np.expand_dims(model.encode(p1[2]), axis=0)"
   ]
  },
  {
   "cell_type": "code",
   "execution_count": 19,
   "id": "0bb872fc",
   "metadata": {},
   "outputs": [],
   "source": [
    "name_embedding_2 = np.expand_dims(model.encode(p2[0]), axis=0)\n",
    "category_embedding_2 = np.expand_dims(model.encode(p2[1]), axis=0)\n",
    "description_embedding_2 = np.expand_dims(model.encode(p2[2]), axis=0)"
   ]
  },
  {
   "cell_type": "code",
   "execution_count": 20,
   "id": "ef84b768",
   "metadata": {},
   "outputs": [
    {
     "name": "stdout",
     "output_type": "stream",
     "text": [
      "(1, 768) (1, 768)\n",
      "(1, 768) (1, 768)\n",
      "(1, 768) (1, 768)\n"
     ]
    }
   ],
   "source": [
    "print(name_embedding_1.shape, name_embedding_2.shape)\n",
    "print(category_embedding_1.shape, category_embedding_2.shape)\n",
    "print(description_embedding_1.shape, description_embedding_2.shape)"
   ]
  },
  {
   "cell_type": "code",
   "execution_count": 23,
   "id": "6c963a43",
   "metadata": {},
   "outputs": [
    {
     "data": {
      "text/plain": [
       "(1, 768)"
      ]
     },
     "execution_count": 23,
     "metadata": {},
     "output_type": "execute_result"
    }
   ],
   "source": [
    "name_embedding_1.shape"
   ]
  },
  {
   "cell_type": "code",
   "execution_count": 24,
   "id": "6a58960f",
   "metadata": {},
   "outputs": [
    {
     "name": "stdout",
     "output_type": "stream",
     "text": [
      "Model: \"encoder_model\"\n",
      "__________________________________________________________________________________________________\n",
      " Layer (type)                   Output Shape         Param #     Connected to                     \n",
      "==================================================================================================\n",
      " input_4 (InputLayer)           [(None, 1, 768)]     0           []                               \n",
      "                                                                                                  \n",
      " input_5 (InputLayer)           [(None, 1, 768)]     0           []                               \n",
      "                                                                                                  \n",
      " input_6 (InputLayer)           [(None, 1, 768)]     0           []                               \n",
      "                                                                                                  \n",
      " concatenate_1 (Concatenate)    (None, 1, 2304)      0           ['input_4[0][0]',                \n",
      "                                                                  'input_5[0][0]',                \n",
      "                                                                  'input_6[0][0]']                \n",
      "                                                                                                  \n",
      " conv1d_2 (Conv1D)              (None, 1, 64)        442432      ['concatenate_1[0][0]']          \n",
      "                                                                                                  \n",
      " conv1d_3 (Conv1D)              (None, 1, 512)       98816       ['conv1d_2[0][0]']               \n",
      "                                                                                                  \n",
      " flatten_1 (Flatten)            (None, 512)          0           ['conv1d_3[0][0]']               \n",
      "                                                                                                  \n",
      " dense_1 (Dense)                (None, 512)          262656      ['flatten_1[0][0]']              \n",
      "                                                                                                  \n",
      "==================================================================================================\n",
      "Total params: 803,904\n",
      "Trainable params: 803,904\n",
      "Non-trainable params: 0\n",
      "__________________________________________________________________________________________________\n"
     ]
    }
   ],
   "source": [
    "encoder_model.summary()"
   ]
  },
  {
   "cell_type": "code",
   "execution_count": 28,
   "id": "8bb1f21d",
   "metadata": {},
   "outputs": [
    {
     "name": "stdout",
     "output_type": "stream",
     "text": [
      "1/1 [==============================] - 5s 5s/step\n"
     ]
    }
   ],
   "source": [
    "encoded_vectors_1 = encoder_model.predict([name_embedding_1.reshape(1, 1, -1), category_embedding_1.reshape(1, 1, -1), description_embedding_1.reshape(1, 1, -1)])"
   ]
  },
  {
   "cell_type": "code",
   "execution_count": 31,
   "id": "17b01a8b",
   "metadata": {},
   "outputs": [
    {
     "name": "stdout",
     "output_type": "stream",
     "text": [
      "1/1 [==============================] - 0s 52ms/step\n"
     ]
    }
   ],
   "source": [
    "encoded_vectors_2 = encoder_model.predict([name_embedding_2.reshape(1, 1, -1), category_embedding_2.reshape(1, 1, -1), description_embedding_2.reshape(1, 1, -1)])"
   ]
  },
  {
   "cell_type": "code",
   "execution_count": 32,
   "id": "03025be9",
   "metadata": {},
   "outputs": [
    {
     "data": {
      "text/plain": [
       "array([[0.6931172]], dtype=float32)"
      ]
     },
     "execution_count": 32,
     "metadata": {},
     "output_type": "execute_result"
    }
   ],
   "source": [
    "cosine_similarity(encoded_vectors_1.reshape(1, -1), encoded_vectors_2.reshape(1, -1))"
   ]
  },
  {
   "cell_type": "code",
   "execution_count": 30,
   "id": "4048d4a3",
   "metadata": {},
   "outputs": [
    {
     "data": {
      "text/plain": [
       "(1, 512)"
      ]
     },
     "execution_count": 30,
     "metadata": {},
     "output_type": "execute_result"
    }
   ],
   "source": [
    "encoded_vectors_1.shape"
   ]
  },
  {
   "cell_type": "code",
   "execution_count": 27,
   "id": "9024de7d",
   "metadata": {},
   "outputs": [
    {
     "name": "stdout",
     "output_type": "stream",
     "text": [
      " 14/623 [..............................] - ETA: 2s "
     ]
    },
    {
     "name": "stderr",
     "output_type": "stream",
     "text": [
      "C:\\Users\\nihal\\Anaconda3\\envs\\gpuenv\\lib\\site-packages\\tensorflow\\python\\data\\ops\\structured_function.py:264: UserWarning: Even though the `tf.config.experimental_run_functions_eagerly` option is set, this option does not apply to tf.data functions. To force eager execution of tf.data functions, please use `tf.data.experimental.enable_debug_mode()`.\n",
      "  warnings.warn(\n"
     ]
    },
    {
     "name": "stdout",
     "output_type": "stream",
     "text": [
      "623/623 [==============================] - 2s 4ms/step\n"
     ]
    }
   ],
   "source": [
    "encoded_vectors = encoder_model.predict([product_name_embedding, category_embedding, about_product_embedding])"
   ]
  },
  {
   "cell_type": "code",
   "execution_count": 28,
   "id": "3d823b17",
   "metadata": {},
   "outputs": [
    {
     "data": {
      "text/plain": [
       "(512,)"
      ]
     },
     "execution_count": 28,
     "metadata": {},
     "output_type": "execute_result"
    }
   ],
   "source": [
    "encoded_vectors[0].shape"
   ]
  },
  {
   "cell_type": "code",
   "execution_count": 29,
   "id": "0cab2cdd",
   "metadata": {},
   "outputs": [
    {
     "data": {
      "text/plain": [
       "(19917, 512)"
      ]
     },
     "execution_count": 29,
     "metadata": {},
     "output_type": "execute_result"
    }
   ],
   "source": [
    "encoded_vectors.shape"
   ]
  },
  {
   "cell_type": "code",
   "execution_count": 30,
   "id": "95888bdd",
   "metadata": {},
   "outputs": [],
   "source": [
    "with open('encoded_vectors.npy', 'wb') as f:\n",
    "    np.save(f, encoded_vectors)"
   ]
  },
  {
   "cell_type": "code",
   "execution_count": 31,
   "id": "8500ede3",
   "metadata": {},
   "outputs": [],
   "source": [
    "from sklearn.metrics.pairwise import cosine_similarity"
   ]
  },
  {
   "cell_type": "code",
   "execution_count": 33,
   "id": "9e89df11",
   "metadata": {},
   "outputs": [
    {
     "data": {
      "text/plain": [
       "array([[-0.08718302]], dtype=float32)"
      ]
     },
     "execution_count": 33,
     "metadata": {},
     "output_type": "execute_result"
    }
   ],
   "source": [
    "cosine_similarity(encoded_vectors[0].reshape(1, -1), encoded_vectors[1].reshape(1, -1))"
   ]
  },
  {
   "cell_type": "code",
   "execution_count": 61,
   "id": "1b603498",
   "metadata": {},
   "outputs": [
    {
     "data": {
      "text/plain": [
       "('MAONO AU-400 Lavalier Auxiliary Omnidirectional Microphone (Black)',\n",
       " 'Belkin Apple Certified Lightning To Type C Cable, Tough Unbreakable Braided Fast Charging For Iphone, Ipad, Air Pods, 3.3 Feet (1 Meters)    White')"
      ]
     },
     "execution_count": 61,
     "metadata": {},
     "output_type": "execute_result"
    }
   ],
   "source": [
    "df['product_name'][800], df['product_name'][120]"
   ]
  },
  {
   "cell_type": "code",
   "execution_count": 34,
   "id": "cef93b89",
   "metadata": {},
   "outputs": [
    {
     "data": {
      "text/plain": [
       "array([[-0.09176696]], dtype=float32)"
      ]
     },
     "execution_count": 34,
     "metadata": {},
     "output_type": "execute_result"
    }
   ],
   "source": [
    "cosine_similarity(encoded_vectors[800].reshape(1, -1), encoded_vectors[120].reshape(1, -1))"
   ]
  },
  {
   "cell_type": "code",
   "execution_count": 35,
   "id": "cf1e191f",
   "metadata": {},
   "outputs": [],
   "source": [
    "loaded_encodings = np.load('./encoded_vectors.npy')"
   ]
  },
  {
   "cell_type": "code",
   "execution_count": 36,
   "id": "ec588a32",
   "metadata": {},
   "outputs": [
    {
     "data": {
      "text/plain": [
       "(19917, 512)"
      ]
     },
     "execution_count": 36,
     "metadata": {},
     "output_type": "execute_result"
    }
   ],
   "source": [
    "loaded_encodings.shape"
   ]
  },
  {
   "cell_type": "code",
   "execution_count": 37,
   "id": "feec5e9c",
   "metadata": {},
   "outputs": [
    {
     "data": {
      "text/plain": [
       "(19917, 512)"
      ]
     },
     "execution_count": 37,
     "metadata": {},
     "output_type": "execute_result"
    }
   ],
   "source": [
    "encoded_vectors.shape"
   ]
  }
 ],
 "metadata": {
  "kernelspec": {
   "display_name": "Python 3 (ipykernel)",
   "language": "python",
   "name": "python3"
  },
  "language_info": {
   "codemirror_mode": {
    "name": "ipython",
    "version": 3
   },
   "file_extension": ".py",
   "mimetype": "text/x-python",
   "name": "python",
   "nbconvert_exporter": "python",
   "pygments_lexer": "ipython3",
   "version": "3.10.0"
  }
 },
 "nbformat": 4,
 "nbformat_minor": 5
}
