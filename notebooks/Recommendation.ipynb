{
 "cells": [
  {
   "cell_type": "code",
   "execution_count": 1,
   "id": "bc6b285f",
   "metadata": {},
   "outputs": [],
   "source": [
    "import numpy as np\n",
    "import pandas as pd\n",
    "import matplotlib.pyplot as plt"
   ]
  },
  {
   "cell_type": "code",
   "execution_count": 2,
   "id": "5c58eca8",
   "metadata": {},
   "outputs": [],
   "source": [
    "metadata = pd.read_csv('../data/amazon.csv')"
   ]
  },
  {
   "cell_type": "code",
   "execution_count": 3,
   "id": "a817f5d7",
   "metadata": {},
   "outputs": [
    {
     "data": {
      "text/html": [
       "<div>\n",
       "<style scoped>\n",
       "    .dataframe tbody tr th:only-of-type {\n",
       "        vertical-align: middle;\n",
       "    }\n",
       "\n",
       "    .dataframe tbody tr th {\n",
       "        vertical-align: top;\n",
       "    }\n",
       "\n",
       "    .dataframe thead th {\n",
       "        text-align: right;\n",
       "    }\n",
       "</style>\n",
       "<table border=\"1\" class=\"dataframe\">\n",
       "  <thead>\n",
       "    <tr style=\"text-align: right;\">\n",
       "      <th></th>\n",
       "      <th>product_id</th>\n",
       "      <th>product_name</th>\n",
       "      <th>category</th>\n",
       "      <th>discounted_price</th>\n",
       "      <th>actual_price</th>\n",
       "      <th>discount_percentage</th>\n",
       "      <th>rating</th>\n",
       "      <th>rating_count</th>\n",
       "      <th>about_product</th>\n",
       "      <th>user_id</th>\n",
       "      <th>user_name</th>\n",
       "      <th>review_id</th>\n",
       "      <th>review_title</th>\n",
       "      <th>review_content</th>\n",
       "      <th>img_link</th>\n",
       "      <th>product_link</th>\n",
       "    </tr>\n",
       "  </thead>\n",
       "  <tbody>\n",
       "    <tr>\n",
       "      <th>0</th>\n",
       "      <td>B07JW9H4J1</td>\n",
       "      <td>Wayona Nylon Braided USB to Lightning Fast Cha...</td>\n",
       "      <td>Computers&amp;Accessories|Accessories&amp;Peripherals|...</td>\n",
       "      <td>₹399</td>\n",
       "      <td>₹1,099</td>\n",
       "      <td>64%</td>\n",
       "      <td>4.2</td>\n",
       "      <td>24,269</td>\n",
       "      <td>High Compatibility : Compatible With iPhone 12...</td>\n",
       "      <td>AG3D6O4STAQKAY2UVGEUV46KN35Q,AHMY5CWJMMK5BJRBB...</td>\n",
       "      <td>Manav,Adarsh gupta,Sundeep,S.Sayeed Ahmed,jasp...</td>\n",
       "      <td>R3HXWT0LRP0NMF,R2AJM3LFTLZHFO,R6AQJGUP6P86,R1K...</td>\n",
       "      <td>Satisfied,Charging is really fast,Value for mo...</td>\n",
       "      <td>Looks durable Charging is fine tooNo complains...</td>\n",
       "      <td>https://m.media-amazon.com/images/W/WEBP_40237...</td>\n",
       "      <td>https://www.amazon.in/Wayona-Braided-WN3LG1-Sy...</td>\n",
       "    </tr>\n",
       "    <tr>\n",
       "      <th>1</th>\n",
       "      <td>B098NS6PVG</td>\n",
       "      <td>Ambrane Unbreakable 60W / 3A Fast Charging 1.5...</td>\n",
       "      <td>Computers&amp;Accessories|Accessories&amp;Peripherals|...</td>\n",
       "      <td>₹199</td>\n",
       "      <td>₹349</td>\n",
       "      <td>43%</td>\n",
       "      <td>4.0</td>\n",
       "      <td>43,994</td>\n",
       "      <td>Compatible with all Type C enabled devices, be...</td>\n",
       "      <td>AECPFYFQVRUWC3KGNLJIOREFP5LQ,AGYYVPDD7YG7FYNBX...</td>\n",
       "      <td>ArdKn,Nirbhay kumar,Sagar Viswanathan,Asp,Plac...</td>\n",
       "      <td>RGIQEG07R9HS2,R1SMWZQ86XIN8U,R2J3Y1WL29GWDE,RY...</td>\n",
       "      <td>A Good Braided Cable for Your Type C Device,Go...</td>\n",
       "      <td>I ordered this cable to connect my phone to An...</td>\n",
       "      <td>https://m.media-amazon.com/images/W/WEBP_40237...</td>\n",
       "      <td>https://www.amazon.in/Ambrane-Unbreakable-Char...</td>\n",
       "    </tr>\n",
       "    <tr>\n",
       "      <th>2</th>\n",
       "      <td>B096MSW6CT</td>\n",
       "      <td>Sounce Fast Phone Charging Cable &amp; Data Sync U...</td>\n",
       "      <td>Computers&amp;Accessories|Accessories&amp;Peripherals|...</td>\n",
       "      <td>₹199</td>\n",
       "      <td>₹1,899</td>\n",
       "      <td>90%</td>\n",
       "      <td>3.9</td>\n",
       "      <td>7,928</td>\n",
       "      <td>【 Fast Charger&amp; Data Sync】-With built-in safet...</td>\n",
       "      <td>AGU3BBQ2V2DDAMOAKGFAWDDQ6QHA,AESFLDV2PT363T2AQ...</td>\n",
       "      <td>Kunal,Himanshu,viswanath,sai niharka,saqib mal...</td>\n",
       "      <td>R3J3EQQ9TZI5ZJ,R3E7WBGK7ID0KV,RWU79XKQ6I1QF,R2...</td>\n",
       "      <td>Good speed for earlier versions,Good Product,W...</td>\n",
       "      <td>Not quite durable and sturdy,https://m.media-a...</td>\n",
       "      <td>https://m.media-amazon.com/images/W/WEBP_40237...</td>\n",
       "      <td>https://www.amazon.in/Sounce-iPhone-Charging-C...</td>\n",
       "    </tr>\n",
       "  </tbody>\n",
       "</table>\n",
       "</div>"
      ],
      "text/plain": [
       "   product_id                                       product_name  \\\n",
       "0  B07JW9H4J1  Wayona Nylon Braided USB to Lightning Fast Cha...   \n",
       "1  B098NS6PVG  Ambrane Unbreakable 60W / 3A Fast Charging 1.5...   \n",
       "2  B096MSW6CT  Sounce Fast Phone Charging Cable & Data Sync U...   \n",
       "\n",
       "                                            category discounted_price  \\\n",
       "0  Computers&Accessories|Accessories&Peripherals|...             ₹399   \n",
       "1  Computers&Accessories|Accessories&Peripherals|...             ₹199   \n",
       "2  Computers&Accessories|Accessories&Peripherals|...             ₹199   \n",
       "\n",
       "  actual_price discount_percentage rating rating_count  \\\n",
       "0       ₹1,099                 64%    4.2       24,269   \n",
       "1         ₹349                 43%    4.0       43,994   \n",
       "2       ₹1,899                 90%    3.9        7,928   \n",
       "\n",
       "                                       about_product  \\\n",
       "0  High Compatibility : Compatible With iPhone 12...   \n",
       "1  Compatible with all Type C enabled devices, be...   \n",
       "2  【 Fast Charger& Data Sync】-With built-in safet...   \n",
       "\n",
       "                                             user_id  \\\n",
       "0  AG3D6O4STAQKAY2UVGEUV46KN35Q,AHMY5CWJMMK5BJRBB...   \n",
       "1  AECPFYFQVRUWC3KGNLJIOREFP5LQ,AGYYVPDD7YG7FYNBX...   \n",
       "2  AGU3BBQ2V2DDAMOAKGFAWDDQ6QHA,AESFLDV2PT363T2AQ...   \n",
       "\n",
       "                                           user_name  \\\n",
       "0  Manav,Adarsh gupta,Sundeep,S.Sayeed Ahmed,jasp...   \n",
       "1  ArdKn,Nirbhay kumar,Sagar Viswanathan,Asp,Plac...   \n",
       "2  Kunal,Himanshu,viswanath,sai niharka,saqib mal...   \n",
       "\n",
       "                                           review_id  \\\n",
       "0  R3HXWT0LRP0NMF,R2AJM3LFTLZHFO,R6AQJGUP6P86,R1K...   \n",
       "1  RGIQEG07R9HS2,R1SMWZQ86XIN8U,R2J3Y1WL29GWDE,RY...   \n",
       "2  R3J3EQQ9TZI5ZJ,R3E7WBGK7ID0KV,RWU79XKQ6I1QF,R2...   \n",
       "\n",
       "                                        review_title  \\\n",
       "0  Satisfied,Charging is really fast,Value for mo...   \n",
       "1  A Good Braided Cable for Your Type C Device,Go...   \n",
       "2  Good speed for earlier versions,Good Product,W...   \n",
       "\n",
       "                                      review_content  \\\n",
       "0  Looks durable Charging is fine tooNo complains...   \n",
       "1  I ordered this cable to connect my phone to An...   \n",
       "2  Not quite durable and sturdy,https://m.media-a...   \n",
       "\n",
       "                                            img_link  \\\n",
       "0  https://m.media-amazon.com/images/W/WEBP_40237...   \n",
       "1  https://m.media-amazon.com/images/W/WEBP_40237...   \n",
       "2  https://m.media-amazon.com/images/W/WEBP_40237...   \n",
       "\n",
       "                                        product_link  \n",
       "0  https://www.amazon.in/Wayona-Braided-WN3LG1-Sy...  \n",
       "1  https://www.amazon.in/Ambrane-Unbreakable-Char...  \n",
       "2  https://www.amazon.in/Sounce-iPhone-Charging-C...  "
      ]
     },
     "execution_count": 3,
     "metadata": {},
     "output_type": "execute_result"
    }
   ],
   "source": [
    "metadata.head(3)"
   ]
  },
  {
   "cell_type": "code",
   "execution_count": 12,
   "id": "aa22e325",
   "metadata": {},
   "outputs": [],
   "source": [
    "metadata = metadata.drop(1279)"
   ]
  },
  {
   "cell_type": "code",
   "execution_count": 15,
   "id": "4a070fc2",
   "metadata": {},
   "outputs": [],
   "source": [
    "metadata = metadata.astype({'rating': float})"
   ]
  },
  {
   "cell_type": "code",
   "execution_count": 35,
   "id": "a2b6a52a",
   "metadata": {},
   "outputs": [
    {
     "data": {
      "text/plain": [
       "4.096716826265404"
      ]
     },
     "execution_count": 35,
     "metadata": {},
     "output_type": "execute_result"
    }
   ],
   "source": [
    "C = metadata['rating'].mean()\n",
    "C"
   ]
  },
  {
   "cell_type": "code",
   "execution_count": 25,
   "id": "b6505728",
   "metadata": {},
   "outputs": [],
   "source": [
    "metadata = metadata.dropna()"
   ]
  },
  {
   "cell_type": "code",
   "execution_count": 27,
   "id": "64d6bf88",
   "metadata": {},
   "outputs": [
    {
     "name": "stderr",
     "output_type": "stream",
     "text": [
      "C:\\Users\\nihal\\AppData\\Local\\Temp\\ipykernel_11636\\1276035783.py:1: SettingWithCopyWarning: \n",
      "A value is trying to be set on a copy of a slice from a DataFrame.\n",
      "Try using .loc[row_indexer,col_indexer] = value instead\n",
      "\n",
      "See the caveats in the documentation: https://pandas.pydata.org/pandas-docs/stable/user_guide/indexing.html#returning-a-view-versus-a-copy\n",
      "  metadata['rating_count'] = metadata['rating_count'].apply(lambda x: int(str(x).replace(\",\", \"\")))\n"
     ]
    }
   ],
   "source": [
    "metadata['rating_count'] = metadata['rating_count'].apply(lambda x: int(str(x).replace(\",\", \"\")))"
   ]
  },
  {
   "cell_type": "code",
   "execution_count": 28,
   "id": "51325f4a",
   "metadata": {},
   "outputs": [
    {
     "data": {
      "text/plain": [
       "39639.50000000008"
      ]
     },
     "execution_count": 28,
     "metadata": {},
     "output_type": "execute_result"
    }
   ],
   "source": [
    "m = metadata['rating_count'].quantile(0.90)\n",
    "m"
   ]
  },
  {
   "cell_type": "code",
   "execution_count": 32,
   "id": "190844b4",
   "metadata": {},
   "outputs": [
    {
     "data": {
      "text/plain": [
       "(147, 16)"
      ]
     },
     "execution_count": 32,
     "metadata": {},
     "output_type": "execute_result"
    }
   ],
   "source": [
    "q_products = metadata.copy().loc[metadata['rating_count'] >= m]\n",
    "q_products.shape"
   ]
  },
  {
   "cell_type": "code",
   "execution_count": 36,
   "id": "5e9c783d",
   "metadata": {},
   "outputs": [],
   "source": [
    "def weighted_rating(x, m=m, C=C):\n",
    "    v = x['rating_count']\n",
    "    R = x['rating']\n",
    "    # Calculation based on the IMDB formula\n",
    "    return (v/(v+m) * R) + (m/(m+v) * C)"
   ]
  },
  {
   "cell_type": "code",
   "execution_count": 37,
   "id": "85917a8f",
   "metadata": {},
   "outputs": [],
   "source": [
    "q_products['score'] = q_products.apply(weighted_rating, axis=1)"
   ]
  },
  {
   "cell_type": "code",
   "execution_count": 40,
   "id": "e2bbd37c",
   "metadata": {},
   "outputs": [
    {
     "data": {
      "text/plain": [
       "(3.691316868009168, 4.50165831002753, 4.144852119611372)"
      ]
     },
     "execution_count": 40,
     "metadata": {},
     "output_type": "execute_result"
    }
   ],
   "source": [
    "q_products['score'].min(), q_products['score'].max(), q_products['score'].mean()"
   ]
  },
  {
   "cell_type": "code",
   "execution_count": 41,
   "id": "25212e03",
   "metadata": {},
   "outputs": [],
   "source": [
    "q_products = q_products.sort_values('score', ascending=False)"
   ]
  },
  {
   "cell_type": "code",
   "execution_count": 43,
   "id": "6619edc7",
   "metadata": {},
   "outputs": [
    {
     "data": {
      "text/html": [
       "<div>\n",
       "<style scoped>\n",
       "    .dataframe tbody tr th:only-of-type {\n",
       "        vertical-align: middle;\n",
       "    }\n",
       "\n",
       "    .dataframe tbody tr th {\n",
       "        vertical-align: top;\n",
       "    }\n",
       "\n",
       "    .dataframe thead th {\n",
       "        text-align: right;\n",
       "    }\n",
       "</style>\n",
       "<table border=\"1\" class=\"dataframe\">\n",
       "  <thead>\n",
       "    <tr style=\"text-align: right;\">\n",
       "      <th></th>\n",
       "      <th>product_name</th>\n",
       "      <th>rating_count</th>\n",
       "      <th>rating</th>\n",
       "      <th>score</th>\n",
       "    </tr>\n",
       "  </thead>\n",
       "  <tbody>\n",
       "    <tr>\n",
       "      <th>1145</th>\n",
       "      <td>Swiffer Instant Electric Water Heater Faucet T...</td>\n",
       "      <td>53803</td>\n",
       "      <td>4.8</td>\n",
       "      <td>4.501658</td>\n",
       "    </tr>\n",
       "    <tr>\n",
       "      <th>864</th>\n",
       "      <td>SanDisk Extreme SD UHS I 64GB Card for 4K Vide...</td>\n",
       "      <td>205052</td>\n",
       "      <td>4.5</td>\n",
       "      <td>4.434669</td>\n",
       "    </tr>\n",
       "    <tr>\n",
       "      <th>40</th>\n",
       "      <td>AmazonBasics USB 2.0 Cable - A-Male to B-Male ...</td>\n",
       "      <td>107687</td>\n",
       "      <td>4.5</td>\n",
       "      <td>4.391493</td>\n",
       "    </tr>\n",
       "    <tr>\n",
       "      <th>852</th>\n",
       "      <td>AmazonBasics USB 2.0 Cable - A-Male to B-Male ...</td>\n",
       "      <td>107686</td>\n",
       "      <td>4.5</td>\n",
       "      <td>4.391492</td>\n",
       "    </tr>\n",
       "    <tr>\n",
       "      <th>810</th>\n",
       "      <td>Crucial BX500 240GB 3D NAND SATA 6.35 cm (2.5-...</td>\n",
       "      <td>92925</td>\n",
       "      <td>4.5</td>\n",
       "      <td>4.379410</td>\n",
       "    </tr>\n",
       "    <tr>\n",
       "      <th>65</th>\n",
       "      <td>Amazon Basics High-Speed HDMI Cable, 6 Feet (2...</td>\n",
       "      <td>426973</td>\n",
       "      <td>4.4</td>\n",
       "      <td>4.374236</td>\n",
       "    </tr>\n",
       "    <tr>\n",
       "      <th>47</th>\n",
       "      <td>Amazon Basics High-Speed HDMI Cable, 6 Feet - ...</td>\n",
       "      <td>426973</td>\n",
       "      <td>4.4</td>\n",
       "      <td>4.374236</td>\n",
       "    </tr>\n",
       "    <tr>\n",
       "      <th>12</th>\n",
       "      <td>AmazonBasics Flexible Premium HDMI Cable (Blac...</td>\n",
       "      <td>426973</td>\n",
       "      <td>4.4</td>\n",
       "      <td>4.374236</td>\n",
       "    </tr>\n",
       "    <tr>\n",
       "      <th>684</th>\n",
       "      <td>AmazonBasics Flexible Premium HDMI Cable (Blac...</td>\n",
       "      <td>426972</td>\n",
       "      <td>4.4</td>\n",
       "      <td>4.374236</td>\n",
       "    </tr>\n",
       "    <tr>\n",
       "      <th>212</th>\n",
       "      <td>AmazonBasics USB 2.0 Extension Cable for Perso...</td>\n",
       "      <td>74977</td>\n",
       "      <td>4.5</td>\n",
       "      <td>4.360527</td>\n",
       "    </tr>\n",
       "    <tr>\n",
       "      <th>30</th>\n",
       "      <td>AmazonBasics USB 2.0 - A-Male to A-Female Exte...</td>\n",
       "      <td>74976</td>\n",
       "      <td>4.5</td>\n",
       "      <td>4.360525</td>\n",
       "    </tr>\n",
       "    <tr>\n",
       "      <th>802</th>\n",
       "      <td>AmazonBasics USB 2.0 - A-Male to A-Female Exte...</td>\n",
       "      <td>74976</td>\n",
       "      <td>4.5</td>\n",
       "      <td>4.360525</td>\n",
       "    </tr>\n",
       "    <tr>\n",
       "      <th>734</th>\n",
       "      <td>Logitech M235 Wireless Mouse, 1000 DPI Optical...</td>\n",
       "      <td>54405</td>\n",
       "      <td>4.5</td>\n",
       "      <td>4.330017</td>\n",
       "    </tr>\n",
       "    <tr>\n",
       "      <th>625</th>\n",
       "      <td>Seagate Expansion 1TB External HDD - USB 3.0 f...</td>\n",
       "      <td>50810</td>\n",
       "      <td>4.5</td>\n",
       "      <td>4.323261</td>\n",
       "    </tr>\n",
       "    <tr>\n",
       "      <th>815</th>\n",
       "      <td>Seagate One Touch 2TB External HDD with Passwo...</td>\n",
       "      <td>50273</td>\n",
       "      <td>4.5</td>\n",
       "      <td>4.322206</td>\n",
       "    </tr>\n",
       "    <tr>\n",
       "      <th>793</th>\n",
       "      <td>Western Digital WD 2TB My Passport Portable Ha...</td>\n",
       "      <td>73005</td>\n",
       "      <td>4.4</td>\n",
       "      <td>4.293275</td>\n",
       "    </tr>\n",
       "    <tr>\n",
       "      <th>788</th>\n",
       "      <td>SanDisk Ultra SDHC UHS-I Card 32GB 120MB/s R f...</td>\n",
       "      <td>69585</td>\n",
       "      <td>4.4</td>\n",
       "      <td>4.289933</td>\n",
       "    </tr>\n",
       "    <tr>\n",
       "      <th>129</th>\n",
       "      <td>AmazonBasics 3.5mm to 2-Male RCA Adapter Cable...</td>\n",
       "      <td>69538</td>\n",
       "      <td>4.4</td>\n",
       "      <td>4.289886</td>\n",
       "    </tr>\n",
       "    <tr>\n",
       "      <th>593</th>\n",
       "      <td>SanDisk Ultra® microSDXC™ UHS-I Card, 64GB, 14...</td>\n",
       "      <td>67262</td>\n",
       "      <td>4.4</td>\n",
       "      <td>4.287541</td>\n",
       "    </tr>\n",
       "    <tr>\n",
       "      <th>507</th>\n",
       "      <td>SanDisk Ultra® microSDXC™ UHS-I Card, 256GB, 1...</td>\n",
       "      <td>67260</td>\n",
       "      <td>4.4</td>\n",
       "      <td>4.287539</td>\n",
       "    </tr>\n",
       "  </tbody>\n",
       "</table>\n",
       "</div>"
      ],
      "text/plain": [
       "                                           product_name  rating_count  rating  \\\n",
       "1145  Swiffer Instant Electric Water Heater Faucet T...         53803     4.8   \n",
       "864   SanDisk Extreme SD UHS I 64GB Card for 4K Vide...        205052     4.5   \n",
       "40    AmazonBasics USB 2.0 Cable - A-Male to B-Male ...        107687     4.5   \n",
       "852   AmazonBasics USB 2.0 Cable - A-Male to B-Male ...        107686     4.5   \n",
       "810   Crucial BX500 240GB 3D NAND SATA 6.35 cm (2.5-...         92925     4.5   \n",
       "65    Amazon Basics High-Speed HDMI Cable, 6 Feet (2...        426973     4.4   \n",
       "47    Amazon Basics High-Speed HDMI Cable, 6 Feet - ...        426973     4.4   \n",
       "12    AmazonBasics Flexible Premium HDMI Cable (Blac...        426973     4.4   \n",
       "684   AmazonBasics Flexible Premium HDMI Cable (Blac...        426972     4.4   \n",
       "212   AmazonBasics USB 2.0 Extension Cable for Perso...         74977     4.5   \n",
       "30    AmazonBasics USB 2.0 - A-Male to A-Female Exte...         74976     4.5   \n",
       "802   AmazonBasics USB 2.0 - A-Male to A-Female Exte...         74976     4.5   \n",
       "734   Logitech M235 Wireless Mouse, 1000 DPI Optical...         54405     4.5   \n",
       "625   Seagate Expansion 1TB External HDD - USB 3.0 f...         50810     4.5   \n",
       "815   Seagate One Touch 2TB External HDD with Passwo...         50273     4.5   \n",
       "793   Western Digital WD 2TB My Passport Portable Ha...         73005     4.4   \n",
       "788   SanDisk Ultra SDHC UHS-I Card 32GB 120MB/s R f...         69585     4.4   \n",
       "129   AmazonBasics 3.5mm to 2-Male RCA Adapter Cable...         69538     4.4   \n",
       "593   SanDisk Ultra® microSDXC™ UHS-I Card, 64GB, 14...         67262     4.4   \n",
       "507   SanDisk Ultra® microSDXC™ UHS-I Card, 256GB, 1...         67260     4.4   \n",
       "\n",
       "         score  \n",
       "1145  4.501658  \n",
       "864   4.434669  \n",
       "40    4.391493  \n",
       "852   4.391492  \n",
       "810   4.379410  \n",
       "65    4.374236  \n",
       "47    4.374236  \n",
       "12    4.374236  \n",
       "684   4.374236  \n",
       "212   4.360527  \n",
       "30    4.360525  \n",
       "802   4.360525  \n",
       "734   4.330017  \n",
       "625   4.323261  \n",
       "815   4.322206  \n",
       "793   4.293275  \n",
       "788   4.289933  \n",
       "129   4.289886  \n",
       "593   4.287541  \n",
       "507   4.287539  "
      ]
     },
     "execution_count": 43,
     "metadata": {},
     "output_type": "execute_result"
    }
   ],
   "source": [
    "q_products[['product_name', 'rating_count', 'rating', 'score']].head(20)"
   ]
  },
  {
   "cell_type": "code",
   "execution_count": 44,
   "id": "0e2c0b6a",
   "metadata": {},
   "outputs": [],
   "source": [
    "from sklearn.feature_extraction.text import TfidfVectorizer"
   ]
  },
  {
   "cell_type": "code",
   "execution_count": 45,
   "id": "0c6bf260",
   "metadata": {},
   "outputs": [
    {
     "data": {
      "text/plain": [
       "(1462, 4034)"
      ]
     },
     "execution_count": 45,
     "metadata": {},
     "output_type": "execute_result"
    }
   ],
   "source": [
    "tfidf = TfidfVectorizer(stop_words='english')\n",
    "\n",
    "metadata['product_name'] = metadata['product_name'].fillna('')\n",
    "\n",
    "#Construct the required TF-IDF matrix by fitting and transforming the data\n",
    "tfidf_matrix = tfidf.fit_transform(metadata['product_name'])\n",
    "\n",
    "#Output the shape of tfidf_matrix\n",
    "tfidf_matrix.shape"
   ]
  },
  {
   "cell_type": "code",
   "execution_count": 48,
   "id": "1e780d1c",
   "metadata": {},
   "outputs": [],
   "source": [
    "from sklearn.metrics.pairwise import linear_kernel"
   ]
  },
  {
   "cell_type": "code",
   "execution_count": 49,
   "id": "7ce70340",
   "metadata": {},
   "outputs": [],
   "source": [
    "cosine_sim = linear_kernel(tfidf_matrix, tfidf_matrix)"
   ]
  },
  {
   "cell_type": "code",
   "execution_count": 50,
   "id": "24bd0aa8",
   "metadata": {},
   "outputs": [],
   "source": [
    "indices = pd.Series(metadata.index, index=metadata['product_name']).drop_duplicates()"
   ]
  },
  {
   "cell_type": "code",
   "execution_count": 51,
   "id": "af589326",
   "metadata": {},
   "outputs": [
    {
     "data": {
      "text/plain": [
       "product_name\n",
       "Wayona Nylon Braided USB to Lightning Fast Charging and Data Sync Cable Compatible for iPhone 13, 12,11, X, 8, 7, 6, 5, iPad Air, Pro, Mini (3 FT Pack of 1, Grey)                                         0\n",
       "Ambrane Unbreakable 60W / 3A Fast Charging 1.5m Braided Type C Cable for Smartphones, Tablets, Laptops & other Type C devices, PD Technology, 480Mbps Data Sync, Quick Charge 3.0 (RCT15A, Black)          1\n",
       "Sounce Fast Phone Charging Cable & Data Sync USB Cable Compatible for iPhone 13, 12,11, X, 8, 7, 6, 5, iPad Air, Pro, Mini & iOS Devices                                                                   2\n",
       "boAt Deuce USB 300 2 in 1 Type-C & Micro USB Stress Resistant, Tangle-Free, Sturdy Cable with 3A Fast Charging & 480mbps Data Transmission, 10000+ Bends Lifespan and Extended 1.5m Length(Martian Red)    3\n",
       "Portronics Konnect L 1.2M Fast Charging 3A 8 Pin USB Cable with Charge & Sync Function for iPhone, iPad (Grey)                                                                                             4\n",
       "pTron Solero TB301 3A Type-C Data and Fast Charging Cable, Made in India, 480Mbps Data Sync, Strong and Durable 1.5-Meter Nylon Braided USB Cable for Type-C Devices for Charging Adapter (Black)          5\n",
       "boAt Micro USB 55 Tangle-free, Sturdy Micro USB Cable with 3A Fast Charging & 480mbps Data Transmission (Black)                                                                                            6\n",
       "MI Usb Type-C Cable Smartphone (Black)                                                                                                                                                                     7\n",
       "TP-Link USB WiFi Adapter for PC(TL-WN725N), N150 Wireless Network Adapter for Desktop - Nano Size WiFi Dongle Compatible with Windows 11/10/7/8/8.1/XP/ Mac OS 10.9-10.15 Linux Kernel 2.6.18-4.4.3        8\n",
       "Ambrane Unbreakable 60W / 3A Fast Charging 1.5m Braided Micro USB Cable for Smartphones, Tablets, Laptops & Other Micro USB Devices, 480Mbps Data Sync, Quick Charge 3.0 (RCM15, Black)                    9\n",
       "dtype: int64"
      ]
     },
     "execution_count": 51,
     "metadata": {},
     "output_type": "execute_result"
    }
   ],
   "source": [
    "indices[:10]"
   ]
  },
  {
   "cell_type": "code",
   "execution_count": 52,
   "id": "88a242a0",
   "metadata": {},
   "outputs": [],
   "source": [
    "def get_recommendations(title, cosine_sim=cosine_sim):\n",
    "    # Get the index of the movie that matches the title\n",
    "    idx = indices[title]\n",
    "\n",
    "    # Get the pairwsie similarity scores of all movies with that movie\n",
    "    sim_scores = list(enumerate(cosine_sim[idx]))\n",
    "\n",
    "    # Sort the movies based on the similarity scores\n",
    "    sim_scores = sorted(sim_scores, key=lambda x: x[1], reverse=True)\n",
    "\n",
    "    # Get the scores of the 10 most similar movies\n",
    "    sim_scores = sim_scores[1:11]\n",
    "\n",
    "    # Get the movie indices\n",
    "    movie_indices = [i[0] for i in sim_scores]\n",
    "\n",
    "    # Return the top 10 most similar movies\n",
    "    return metadata['product_name'].iloc[movie_indices]"
   ]
  },
  {
   "cell_type": "code",
   "execution_count": 55,
   "id": "74084f2f",
   "metadata": {},
   "outputs": [
    {
     "data": {
      "text/plain": [
       "56      TP-LINK WiFi Dongle 300 Mbps Mini Wireless Net...\n",
       "143     TP-Link Nano USB WiFi Dongle 150Mbps High Gain...\n",
       "90      Gizga Essentials USB WiFi Adapter for PC, 150 ...\n",
       "1019    Gizga Essentials USB WiFi Adapter for PC, 150 ...\n",
       "43      TP-Link Nano AC600 USB Wi-Fi Adapter(Archer T2...\n",
       "869     TP-Link Nano AC600 USB Wi-Fi Adapter(Archer T2...\n",
       "170     TP-Link AC1300 USB WiFi Adapter (Archer T3U) -...\n",
       "50      TP-Link AC600 600 Mbps WiFi Wireless Network U...\n",
       "894     TP-Link AC600 600 Mbps WiFi Wireless Network U...\n",
       "175     Skadioo WiFi Adapter for pc | Car Accessories,...\n",
       "Name: product_name, dtype: object"
      ]
     },
     "execution_count": 55,
     "metadata": {},
     "output_type": "execute_result"
    }
   ],
   "source": [
    "get_recommendations('TP-Link USB WiFi Adapter for PC(TL-WN725N), N150 Wireless Network Adapter for Desktop - Nano Size WiFi Dongle Compatible with Windows 11/10/7/8/8.1/XP/ Mac OS 10.9-10.15 Linux Kernel 2.6.18-4.4.3')"
   ]
  },
  {
   "cell_type": "code",
   "execution_count": null,
   "id": "7b31b8c0",
   "metadata": {},
   "outputs": [],
   "source": []
  }
 ],
 "metadata": {
  "kernelspec": {
   "display_name": "Python 3 (ipykernel)",
   "language": "python",
   "name": "python3"
  },
  "language_info": {
   "codemirror_mode": {
    "name": "ipython",
    "version": 3
   },
   "file_extension": ".py",
   "mimetype": "text/x-python",
   "name": "python",
   "nbconvert_exporter": "python",
   "pygments_lexer": "ipython3",
   "version": "3.10.0"
  }
 },
 "nbformat": 4,
 "nbformat_minor": 5
}
