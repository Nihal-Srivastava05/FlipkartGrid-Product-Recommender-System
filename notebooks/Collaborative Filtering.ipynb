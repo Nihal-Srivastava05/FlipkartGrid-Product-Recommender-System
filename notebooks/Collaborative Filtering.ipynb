{
 "cells": [
  {
   "cell_type": "code",
   "execution_count": 1,
   "id": "3b2df998",
   "metadata": {},
   "outputs": [],
   "source": [
    "import numpy as np\n",
    "import pandas as pd\n",
    "import matplotlib.pyplot as plt"
   ]
  },
  {
   "cell_type": "code",
   "execution_count": 2,
   "id": "3fc3cdca",
   "metadata": {},
   "outputs": [],
   "source": [
    "df = pd.read_csv('../data/ratings.csv')"
   ]
  },
  {
   "cell_type": "code",
   "execution_count": 4,
   "id": "903e2afd",
   "metadata": {},
   "outputs": [
    {
     "data": {
      "text/html": [
       "<div>\n",
       "<style scoped>\n",
       "    .dataframe tbody tr th:only-of-type {\n",
       "        vertical-align: middle;\n",
       "    }\n",
       "\n",
       "    .dataframe tbody tr th {\n",
       "        vertical-align: top;\n",
       "    }\n",
       "\n",
       "    .dataframe thead th {\n",
       "        text-align: right;\n",
       "    }\n",
       "</style>\n",
       "<table border=\"1\" class=\"dataframe\">\n",
       "  <thead>\n",
       "    <tr style=\"text-align: right;\">\n",
       "      <th></th>\n",
       "      <th>userId</th>\n",
       "      <th>movieId</th>\n",
       "      <th>rating</th>\n",
       "      <th>timestamp</th>\n",
       "    </tr>\n",
       "  </thead>\n",
       "  <tbody>\n",
       "    <tr>\n",
       "      <th>0</th>\n",
       "      <td>1</td>\n",
       "      <td>1</td>\n",
       "      <td>4.0</td>\n",
       "      <td>964982703</td>\n",
       "    </tr>\n",
       "    <tr>\n",
       "      <th>1</th>\n",
       "      <td>1</td>\n",
       "      <td>3</td>\n",
       "      <td>4.0</td>\n",
       "      <td>964981247</td>\n",
       "    </tr>\n",
       "    <tr>\n",
       "      <th>2</th>\n",
       "      <td>1</td>\n",
       "      <td>6</td>\n",
       "      <td>4.0</td>\n",
       "      <td>964982224</td>\n",
       "    </tr>\n",
       "    <tr>\n",
       "      <th>3</th>\n",
       "      <td>1</td>\n",
       "      <td>47</td>\n",
       "      <td>5.0</td>\n",
       "      <td>964983815</td>\n",
       "    </tr>\n",
       "    <tr>\n",
       "      <th>4</th>\n",
       "      <td>1</td>\n",
       "      <td>50</td>\n",
       "      <td>5.0</td>\n",
       "      <td>964982931</td>\n",
       "    </tr>\n",
       "  </tbody>\n",
       "</table>\n",
       "</div>"
      ],
      "text/plain": [
       "   userId  movieId  rating  timestamp\n",
       "0       1        1     4.0  964982703\n",
       "1       1        3     4.0  964981247\n",
       "2       1        6     4.0  964982224\n",
       "3       1       47     5.0  964983815\n",
       "4       1       50     5.0  964982931"
      ]
     },
     "execution_count": 4,
     "metadata": {},
     "output_type": "execute_result"
    }
   ],
   "source": [
    "df.head()"
   ]
  },
  {
   "cell_type": "code",
   "execution_count": 5,
   "id": "b9ac00c5",
   "metadata": {},
   "outputs": [],
   "source": [
    "from sklearn.neighbors import NearestNeighbors"
   ]
  },
  {
   "cell_type": "code",
   "execution_count": 54,
   "id": "011509c0",
   "metadata": {},
   "outputs": [],
   "source": [
    "n_users = df['userId'].max()\n",
    "# n_items = df.movieId.unique().shape[0]\n",
    "n_items = df['movieId'].max()"
   ]
  },
  {
   "cell_type": "code",
   "execution_count": 80,
   "id": "921bcba2",
   "metadata": {},
   "outputs": [
    {
     "data": {
      "text/plain": [
       "(610, 193609)"
      ]
     },
     "execution_count": 80,
     "metadata": {},
     "output_type": "execute_result"
    }
   ],
   "source": [
    "n_users, n_items"
   ]
  },
  {
   "cell_type": "code",
   "execution_count": 68,
   "id": "b8fcea12",
   "metadata": {},
   "outputs": [],
   "source": [
    "A = np.zeros((n_users, n_items))\n",
    "for line in df.itertuples():\n",
    "    A[line[1]-1,line[2]-1] = line[3]"
   ]
  },
  {
   "cell_type": "code",
   "execution_count": 69,
   "id": "e0c6dc79",
   "metadata": {},
   "outputs": [
    {
     "data": {
      "text/plain": [
       "array([[4. , 0. , 4. , ..., 0. , 0. , 0. ],\n",
       "       [0. , 0. , 0. , ..., 0. , 0. , 0. ],\n",
       "       [0. , 0. , 0. , ..., 0. , 0. , 0. ],\n",
       "       ...,\n",
       "       [2.5, 2. , 2. , ..., 0. , 0. , 0. ],\n",
       "       [3. , 0. , 0. , ..., 0. , 0. , 0. ],\n",
       "       [5. , 0. , 0. , ..., 0. , 0. , 0. ]])"
      ]
     },
     "execution_count": 69,
     "metadata": {},
     "output_type": "execute_result"
    }
   ],
   "source": [
    "A"
   ]
  },
  {
   "cell_type": "code",
   "execution_count": 70,
   "id": "d0a72f97",
   "metadata": {},
   "outputs": [],
   "source": [
    "from scipy.sparse import csr_matrix"
   ]
  },
  {
   "cell_type": "code",
   "execution_count": 71,
   "id": "8a0f06e5",
   "metadata": {},
   "outputs": [],
   "source": [
    "csr_sample = csr_matrix(A)"
   ]
  },
  {
   "cell_type": "code",
   "execution_count": 79,
   "id": "e90a5b69",
   "metadata": {
    "scrolled": true
   },
   "outputs": [
    {
     "name": "stdout",
     "output_type": "stream",
     "text": [
      "  (0, 0)\t4.0\n",
      "  (0, 2)\t4.0\n",
      "  (0, 5)\t4.0\n",
      "  (0, 46)\t5.0\n",
      "  (0, 49)\t5.0\n",
      "  (0, 69)\t3.0\n",
      "  (0, 100)\t5.0\n",
      "  (0, 109)\t4.0\n",
      "  (0, 150)\t5.0\n",
      "  (0, 156)\t5.0\n",
      "  (0, 162)\t5.0\n",
      "  (0, 215)\t5.0\n",
      "  (0, 222)\t3.0\n",
      "  (0, 230)\t5.0\n",
      "  (0, 234)\t4.0\n",
      "  (0, 259)\t5.0\n",
      "  (0, 295)\t3.0\n",
      "  (0, 315)\t3.0\n",
      "  (0, 332)\t5.0\n",
      "  (0, 348)\t4.0\n",
      "  (0, 355)\t4.0\n",
      "  (0, 361)\t5.0\n",
      "  (0, 366)\t4.0\n",
      "  (0, 422)\t3.0\n",
      "  (0, 440)\t4.0\n",
      "  :\t:\n",
      "  (609, 156370)\t5.0\n",
      "  (609, 156725)\t4.5\n",
      "  (609, 157295)\t4.0\n",
      "  (609, 158237)\t5.0\n",
      "  (609, 158720)\t3.5\n",
      "  (609, 158871)\t3.5\n",
      "  (609, 158955)\t3.0\n",
      "  (609, 159092)\t3.0\n",
      "  (609, 160079)\t3.0\n",
      "  (609, 160340)\t2.5\n",
      "  (609, 160526)\t4.5\n",
      "  (609, 160570)\t3.0\n",
      "  (609, 160835)\t3.0\n",
      "  (609, 161581)\t4.0\n",
      "  (609, 161633)\t4.0\n",
      "  (609, 162349)\t3.5\n",
      "  (609, 163936)\t3.5\n",
      "  (609, 163980)\t3.5\n",
      "  (609, 164178)\t5.0\n",
      "  (609, 166527)\t4.0\n",
      "  (609, 166533)\t4.0\n",
      "  (609, 168247)\t5.0\n",
      "  (609, 168249)\t5.0\n",
      "  (609, 168251)\t5.0\n",
      "  (609, 170874)\t3.0\n"
     ]
    }
   ],
   "source": [
    "print(csr_sample)"
   ]
  },
  {
   "cell_type": "code",
   "execution_count": 41,
   "id": "7e63d57f",
   "metadata": {
    "scrolled": true
   },
   "outputs": [
    {
     "data": {
      "text/plain": [
       "NearestNeighbors(algorithm='brute', metric='cosine', n_jobs=-1, n_neighbors=3)"
      ]
     },
     "execution_count": 41,
     "metadata": {},
     "output_type": "execute_result"
    }
   ],
   "source": [
    "knn = NearestNeighbors(metric='cosine', algorithm='brute', n_neighbors=3, n_jobs=-1)\n",
    "knn.fit(csr_sample)"
   ]
  },
  {
   "cell_type": "code",
   "execution_count": 44,
   "id": "49d6a3bc",
   "metadata": {},
   "outputs": [],
   "source": [
    "dataset_sort_des = df.sort_values(['userId', 'timestamp'], ascending=[True, False])\n",
    "filter1 = dataset_sort_des[dataset_sort_des['userId'] == 1].movieId\n",
    "filter1 = filter1.tolist()\n",
    "filter1 = filter1[:20]"
   ]
  },
  {
   "cell_type": "code",
   "execution_count": 49,
   "id": "d2feffbd",
   "metadata": {},
   "outputs": [
    {
     "name": "stdout",
     "output_type": "stream",
     "text": [
      "Movies liked by user:  [2492, 2012, 2478, 553, 1445, 157, 780, 1298, 3053, 3448, 151, 1090, 1224, 527, 5060, 3147, 2353, 47, 593, 3033]\n"
     ]
    }
   ],
   "source": [
    "print(\"Movies liked by user: \",filter1)"
   ]
  },
  {
   "cell_type": "code",
   "execution_count": 81,
   "id": "19e4a3bb",
   "metadata": {},
   "outputs": [
    {
     "name": "stdout",
     "output_type": "stream",
     "text": [
      "Items to be recommended:  [365, 416, 365, 416, 365, 416, 365, 416, 365, 416, 365, 416, 365, 416, 365, 416, 365, 416, 365, 416, 365, 416, 365, 416, 365, 416, 365, 416, 365, 416, 365, 416, 365, 416, 365, 416, 365, 416, 365, 416]\n"
     ]
    }
   ],
   "source": [
    "distances1=[]\n",
    "indices1=[]\n",
    "for i in filter1:\n",
    "    distances , indices = knn.kneighbors(csr_sample[1], n_neighbors=3)\n",
    "    indices = indices.flatten()\n",
    "    indices= indices[1:]\n",
    "    indices1.extend(indices)\n",
    "print(\"Items to be recommended: \",indices1)"
   ]
  },
  {
   "cell_type": "code",
   "execution_count": null,
   "id": "900f45a0",
   "metadata": {},
   "outputs": [],
   "source": []
  },
  {
   "cell_type": "code",
   "execution_count": 78,
   "id": "a832d1fe",
   "metadata": {},
   "outputs": [
    {
     "data": {
      "text/plain": [
       "<1x610 sparse matrix of type '<class 'numpy.float64'>'\n",
       "\twith 1 stored elements in Compressed Sparse Column format>"
      ]
     },
     "execution_count": 78,
     "metadata": {},
     "output_type": "execute_result"
    }
   ],
   "source": [
    "csr_sample.T[2492]"
   ]
  },
  {
   "cell_type": "code",
   "execution_count": null,
   "id": "77bf6d05",
   "metadata": {},
   "outputs": [],
   "source": []
  }
 ],
 "metadata": {
  "kernelspec": {
   "display_name": "Python 3 (ipykernel)",
   "language": "python",
   "name": "python3"
  },
  "language_info": {
   "codemirror_mode": {
    "name": "ipython",
    "version": 3
   },
   "file_extension": ".py",
   "mimetype": "text/x-python",
   "name": "python",
   "nbconvert_exporter": "python",
   "pygments_lexer": "ipython3",
   "version": "3.9.12"
  }
 },
 "nbformat": 4,
 "nbformat_minor": 5
}
